{
 "cells": [
  {
   "cell_type": "code",
   "execution_count": 10,
   "metadata": {},
   "outputs": [
    {
     "name": "stdout",
     "output_type": "stream",
     "text": [
      "2\n",
      "[-5, 2, 3, 6, 8, 17]\n",
      "4.5\n",
      "2\n",
      "[-81, 0, 4, 5, 12]\n",
      "4\n"
     ]
    }
   ],
   "source": [
    "A = [ 3, 2, 17, -5, 6, 8] \n",
    "B = [ 5, 4, 12, 0, -81 ]\n",
    "def median(A):\n",
    "    A.sort()\n",
    "    index = (len(A)-1)//2 #find the center\n",
    "    \n",
    "    print(index)\n",
    "    print(A)\n",
    "    \n",
    "    if len(A)%2 ==0:\n",
    "        m = (A[index]+A[index+1])/2\n",
    "    else: m = A[index]    \n",
    "    \n",
    "    return m\n",
    "\n",
    "print(median(A) )   \n",
    "print(median(B) )   "
   ]
  },
  {
   "cell_type": "code",
   "execution_count": 12,
   "metadata": {},
   "outputs": [
    {
     "name": "stdout",
     "output_type": "stream",
     "text": [
      "[-5, 2, 3, 6, 8, 17]\n",
      "0 5\n",
      "[-1.5, 2.5, 4.5, 7.0, 12.5]\n"
     ]
    }
   ],
   "source": [
    "A = [ 3, 2, 17, -5, 6, 8] \n",
    "B = [ 5, 4, 12, 0, -81 ]\n",
    "\n",
    "def movingAve(list, window_size):\n",
    "    list.sort()\n",
    "    print(list)\n",
    "    ave_list = []\n",
    "    l = 0; r = len(list)-(window_size-1)\n",
    "    print(l, r)\n",
    "    while l < r:\n",
    "        sum_elements = sum(list[l:l+window_size])\n",
    "        ave_list.append(sum_elements/window_size)\n",
    "        l+=1 \n",
    "    return ave_list \n",
    "if __name__ == '__main__':    \n",
    "    print(movingAve(A, 2))"
   ]
  },
  {
   "cell_type": "code",
   "execution_count": 15,
   "metadata": {},
   "outputs": [
    {
     "name": "stdout",
     "output_type": "stream",
     "text": [
      "2\n"
     ]
    }
   ],
   "source": [
    "def opt(delta_t):\n",
    "    time_container = [0 for i in range(256)]\n",
    "    for i in delta_t:\n",
    "        time_container[i[0]] += 1 # increment 1 at start time\n",
    "        time_container[i[1]] -= 1 \n",
    "    tmp, room = 0,0\n",
    "    for t in time_container:\n",
    "        tmp += t\n",
    "        if tmp > room:\n",
    "            room = tmp\n",
    "    return room\n",
    "\n",
    "delta_t = [[30, 75], [0, 50], [60, 150]]\n",
    "print(opt(delta_t))"
   ]
  },
  {
   "cell_type": "code",
   "execution_count": 21,
   "metadata": {},
   "outputs": [
    {
     "name": "stdout",
     "output_type": "stream",
     "text": [
      "4\n"
     ]
    }
   ],
   "source": [
    "def singleNumber(num):\n",
    "    \"\"\"\n",
    "    type num: list\n",
    "    rtype i : int\n",
    "    \"\"\"\n",
    "    for i in num:\n",
    "        if num.count(i) == 1:\n",
    "            return i\n",
    "out = singleNumber([1,2,4,1,2])\n",
    "print(out)"
   ]
  },
  {
   "cell_type": "code",
   "execution_count": 26,
   "metadata": {},
   "outputs": [
    {
     "name": "stdout",
     "output_type": "stream",
     "text": [
      "[4, 5, 6]\n"
     ]
    }
   ],
   "source": [
    "#Return a list of non-repeated numbers in linear runtime complexity\n",
    "def singleNumberList(num):\n",
    "    \"\"\"\n",
    "    type num: list\n",
    "    rtype n_list : list\n",
    "    \"\"\"\n",
    "    n_list = [i for i in num if num.count(i)==1]\n",
    "    return n_list\n",
    "        \n",
    "out = singleNumberList([1,2,4,5,6,1,2])\n",
    "print(out)"
   ]
  },
  {
   "cell_type": "code",
   "execution_count": 39,
   "metadata": {},
   "outputs": [
    {
     "name": "stdout",
     "output_type": "stream",
     "text": [
      "6\n"
     ]
    }
   ],
   "source": [
    "def getsum(n):\n",
    "    \"\"\"\n",
    "    type n: int\n",
    "    rtype : int\n",
    "    \"\"\"\n",
    "    l = list(str(n))\n",
    "    l_int = [int(i) for i in l]\n",
    "    return sum(l_int)\n",
    "n = 123\n",
    "print(getsum(n))"
   ]
  },
  {
   "cell_type": "code",
   "execution_count": 48,
   "metadata": {},
   "outputs": [
    {
     "name": "stdout",
     "output_type": "stream",
     "text": [
      "0 5\n",
      "(0, 5)\n"
     ]
    }
   ],
   "source": [
    "# Given an array of integers that is already sorted in ascending order,\n",
    "# return indices of the two numbers such that they add up to the target\n",
    "\n",
    "def sumTwo(n_list,t):\n",
    "    l, r = 0, len(n_list)-1\n",
    "    \n",
    "    \n",
    "    while(l<r):\n",
    "        sum_lr =  n_list[l]+ n_list[r]\n",
    "        if sum_lr > t: r-=1\n",
    "        elif sum_lr < t : l+=1        \n",
    "        else: \n",
    "            print(l, r) \n",
    "            return l, r#n_list[l],n_list[r]\n",
    "            \n",
    "        \n",
    "    \n",
    "if __name__ == \"__main__\":\n",
    "    \n",
    "    numbers = [1,3,4,5,7,10,11]\n",
    "    target = 11\n",
    "    \n",
    "    print(sumTwo(numbers, target))"
   ]
  },
  {
   "cell_type": "code",
   "execution_count": 62,
   "metadata": {},
   "outputs": [
    {
     "name": "stdout",
     "output_type": "stream",
     "text": [
      "[5, 45]\n"
     ]
    }
   ],
   "source": [
    "def TwoSumFromArrays (A, B, k):\n",
    "    A.sort()\n",
    "    B.sort()\n",
    "    l, r = 0, len(A)-1\n",
    "    closest_pair = [A[0], B[0]]\n",
    "    dist = float('inf')#abs(A[0]+B[0]-k)\n",
    "    \n",
    "    while l< r:\n",
    "        \n",
    "        new_dist =  A[l]+B[r]-k\n",
    "        \n",
    "        if abs(new_dist) < dist:\n",
    "            dist = abs(new_dist)\n",
    "            closest_pair = [A[l],B[r]]\n",
    "        #print(closest_pair)    \n",
    "        if new_dist < 0: l+=1\n",
    "        elif new_dist > 0 : r-=1\n",
    "        else: break\n",
    "    return closest_pair    \n",
    "\n",
    "A, B = [3,5,10,11,12], [0,10,20,45,49]\n",
    "k = 50\n",
    "\n",
    "#A, B = [ 3, 2, 17, -5, 6 ], [ 5, 4, 12, 0, -81 ]\n",
    "#k = 13\n",
    "print(TwoSumFromArrays (A, B, k))    "
   ]
  },
  {
   "cell_type": "code",
   "execution_count": 74,
   "metadata": {},
   "outputs": [
    {
     "name": "stdout",
     "output_type": "stream",
     "text": [
      "[-98, -2, -1]\n"
     ]
    }
   ],
   "source": [
    "def threeSum(A, k):\n",
    "    \n",
    "    dist = float('inf')\n",
    "    closest_pair = [0,0,0]\n",
    "    for i in range(len(A)):\n",
    "        l, r = i+1, len(A)-1\n",
    "        while l < r:\n",
    "            new_dist = A[i]+A[l]+A[r]-k\n",
    "            if abs(new_dist) < dist:\n",
    "                dist = abs(new_dist)\n",
    "                closest_pair = [A[i],A[l],A[r]]\n",
    "            if new_dist < 0 : l+=1\n",
    "            elif new_dist > 0: r-=1\n",
    "            else: break    \n",
    "    return closest_pair \n",
    "\n",
    "A = [-100, -98 , -2, -1]\n",
    "k = -101  \n",
    "print(threeSum(A, k))"
   ]
  },
  {
   "cell_type": "code",
   "execution_count": 78,
   "metadata": {},
   "outputs": [
    {
     "name": "stdout",
     "output_type": "stream",
     "text": [
      "0 1\n",
      "1 0\n",
      "[1, 3, 6, 8]\n"
     ]
    }
   ],
   "source": [
    "def bs(A):\n",
    "    n = len(A)-1\n",
    "    for i in range(n):\n",
    "        for j in range (n-i):           \n",
    "            if A[j] > A[j+1]:\n",
    "                print(i, j)\n",
    "                A[j], A[j+1] = A[j+1], A[j] \n",
    "            \n",
    "    return A       \n",
    "\n",
    "A=[3,6,1,8]\n",
    "print(bs(A))"
   ]
  },
  {
   "cell_type": "code",
   "execution_count": 87,
   "metadata": {},
   "outputs": [
    {
     "name": "stdout",
     "output_type": "stream",
     "text": [
      "[2, 3, 4, 5, 6, 1]\n",
      "[3, 4, 5, 6, 1, 2]\n",
      "[4, 5, 6, 1, 2, 3]\n",
      "[4, 5, 6, 1, 2, 3]\n"
     ]
    }
   ],
   "source": [
    "def solution(A, k):\n",
    "    r=len(A)-1\n",
    "    l = 0\n",
    "    while l<k:\n",
    "        temp = A[0]\n",
    "        A[0:r] = A[1:r+1]\n",
    "        A[r] = temp\n",
    "        print(A)\n",
    "        l+=1\n",
    "    return A\n",
    "\n",
    "# use case\n",
    "A = [1, 2, 3, 4, 5, 6]\n",
    "k = 3\n",
    "print(solution(A, k))"
   ]
  },
  {
   "cell_type": "code",
   "execution_count": 114,
   "metadata": {},
   "outputs": [
    {
     "name": "stdout",
     "output_type": "stream",
     "text": [
      "[4, 5, 6]\n",
      "[1, 2, 3]\n",
      "[4, 5, 6, 1, 2, 3]\n"
     ]
    }
   ],
   "source": [
    "def solution(A, k):\n",
    "    if len(A) == 0:\n",
    "        return A\n",
    "\n",
    "    k = k % len(A)\n",
    "    print(A[-k:]) # except first three\n",
    "    print(A[:-k]) # except last three\n",
    "    return A[-k:] + A[:-k]\n",
    "\n",
    "# use case\n",
    "A = [1, 2, 3, 4, 5, 6]\n",
    "k = 3\n",
    "print(solution(A, k))"
   ]
  },
  {
   "cell_type": "code",
   "execution_count": 122,
   "metadata": {},
   "outputs": [
    {
     "name": "stdout",
     "output_type": "stream",
     "text": [
      "10 --> 0\n",
      "5 --> 1\n",
      "2 --> 0\n",
      "1 --> 1\n",
      "1010\n"
     ]
    }
   ],
   "source": [
    "def DecimalToBinary(num):\n",
    "    b_list = []\n",
    "    while(num>0):       \n",
    "        b_list.append(num % 2) \n",
    "        print(num, '-->',num%2)\n",
    "        num //= 2\n",
    "    #print(b_list[::-1]) \n",
    "    #b_list_str = [str(i) for i in b_list[::-1]]\n",
    "    #print(b_list_str)\n",
    "    #a = \"\".join(b_list_str)\n",
    "    #print(int(a))\n",
    "    b = int(\"\".join(map(str, b_list[::-1])))\n",
    "    return b\n",
    "if __name__ == '__main__':       \n",
    "    dec_val = 10\n",
    "    print(DecimalToBinary(dec_val) )  "
   ]
  },
  {
   "cell_type": "code",
   "execution_count": 123,
   "metadata": {},
   "outputs": [
    {
     "name": "stdout",
     "output_type": "stream",
     "text": [
      "True\n"
     ]
    }
   ],
   "source": [
    "class ListNode(object):\n",
    "    def __init__(self, data):\n",
    "        self.val = data\n",
    "        self.next = None\n",
    "    def has_value(self, data):\n",
    "        if self.val == data: return True\n",
    "        else: return False\n",
    "        \n",
    "node1 =  ListNode(15)\n",
    "print(node1.has_value(15))            "
   ]
  },
  {
   "cell_type": "code",
   "execution_count": 125,
   "metadata": {},
   "outputs": [
    {
     "name": "stdout",
     "output_type": "stream",
     "text": [
      "<__main__.ListNode object at 0x10a72b1d0>\n",
      "1 2 3 4 5 "
     ]
    }
   ],
   "source": [
    "class ListNode(object):\n",
    "    \n",
    "    def __init__(self, data):\n",
    "        self.val = data\n",
    "        self.next = None\n",
    "        \n",
    "        \n",
    "def display(curr): \n",
    "    while (curr != None) : \n",
    "        print(curr.val, end = \" \") #print data at the pointer\n",
    "        curr = curr.next \n",
    "          \n",
    "def arr2Link(input_arr): \n",
    "    head = curr = ListNode(0) #instantiate\n",
    "    for i in input_arr: \n",
    "        curr.next = ListNode(i) #set the current pointers to next data\n",
    "        curr = curr.next  # set current to the next pointer\n",
    "        #curr.next, curr = Node(i), curr.next\n",
    "    #print(curr.val)# the last element of the list\n",
    "    #print (head.next)\n",
    "    return head.next #pointing to first element of the list\n",
    "  \n",
    "if __name__=='__main__':  \n",
    "    input_arr = [1, 2, 3, 4, 5]\n",
    "\n",
    "    curr = arr2Link(input_arr)\n",
    "    print(curr)\n",
    "    display(curr) \n"
   ]
  },
  {
   "cell_type": "code",
   "execution_count": 85,
   "metadata": {},
   "outputs": [
    {
     "name": "stdout",
     "output_type": "stream",
     "text": [
      "[('x', 5), ('y', 3), ('z', 2)]\n"
     ]
    }
   ],
   "source": [
    "def count_character(a_string): \n",
    "    \"\"\"\n",
    "    type a_string: string\n",
    "    rtype count_list : list of tuples\n",
    "    \"\"\"\n",
    "    #cast string to list of strings and find the unique elements in the list\n",
    "    str_list = list(a_string)  \n",
    "    unique_ch_list = list(set(str_list)) \n",
    "    \n",
    "    # append a tuple of list with a unique charcter and its counter\n",
    "    count_list = []\n",
    "    for i in sorted(unique_ch_list):\n",
    "        count_list.append((i, str_list.count(i)))\n",
    "    return  count_list\n",
    "\n",
    "# Driver Code \n",
    "if __name__ == '__main__': \n",
    "    a = \"xxxxyyyzzx\"\n",
    "    print(count_character(a))"
   ]
  },
  {
   "cell_type": "code",
   "execution_count": 95,
   "metadata": {},
   "outputs": [
    {
     "name": "stdout",
     "output_type": "stream",
     "text": [
      "[('x', 4), ('y', 3), ('z', 2), ('x', 1)]\n"
     ]
    }
   ],
   "source": [
    "def count_run_length(a_string):\n",
    "    \"\"\"\n",
    "    type a_string: string\n",
    "    rtype count_list : list of tuples\n",
    "    \"\"\"\n",
    "    # cast string to list of strings \n",
    "    str_list = list(a_string)  \n",
    "    \n",
    "    current_run = 1\n",
    "    run_interval = [] \n",
    "    \n",
    "    # count until the character is same in the list, else reset the \n",
    "    # counter. Append the charcter and counter before a change in run appears\n",
    "    for i in range(len(str_list)-1):\n",
    "        \n",
    "        if str_list[i] == str_list[i+1]: current_run += 1\n",
    "        else: current_run = 1\n",
    "   \n",
    "        run_interval.append((l[i+1], current_run))        \n",
    "    #print (run_interval) \n",
    "    \n",
    "    # If the counter is reset to 1, read the previous value of the \n",
    "    # counter and append it to a list along with the character\n",
    "    count_run = []\n",
    "    for i in range(len(interval)):\n",
    "        if  interval[i][1]==1: \n",
    "            count_run.append(interval[i-1])           \n",
    "    # edge case if last character is counted as 1       \n",
    "    if  interval[-1][1]==1:\n",
    "        count_run.append(interval[-1])\n",
    "        \n",
    "    return  count_run  \n",
    "    \n",
    "# Driver Code \n",
    "if __name__ == '__main__': \n",
    "    a = \"xxxxyyyzzx\"\n",
    "    print(count_run_length(a)) \n",
    "    "
   ]
  },
  {
   "cell_type": "code",
   "execution_count": null,
   "metadata": {},
   "outputs": [],
   "source": []
  },
  {
   "cell_type": "code",
   "execution_count": 11,
   "metadata": {},
   "outputs": [
    {
     "name": "stdout",
     "output_type": "stream",
     "text": [
      "[2, 3, 4, 5]\n",
      "[1, 3, 4, 5]\n",
      "[1, 2, 4, 5]\n",
      "[1, 2, 3, 5]\n",
      "[1, 2, 3, 4]\n",
      "A: [120, 60, 40, 30, 24]\n"
     ]
    }
   ],
   "source": [
    "from functools import reduce\n",
    "def product_N_minus1_A(aList):\n",
    "    p_list = []\n",
    "    for n, i in enumerate(aList):\n",
    "        list_N_minus1 = list(filter(lambda x: x!=i, aList))        \n",
    "        #print(aList.pop(n), i)\n",
    "        print(list_N_minus1)\n",
    "        p = reduce(lambda x,y : x*y, list_N_minus1)\n",
    "        p_list.append(p)\n",
    "    return p_list\n",
    "\n",
    "a = [1,2,3,4,5] \n",
    "out_A = product_N_minus1_A(a)\n",
    "print('A:', out_A)"
   ]
  },
  {
   "cell_type": "code",
   "execution_count": 36,
   "metadata": {},
   "outputs": [
    {
     "name": "stdout",
     "output_type": "stream",
     "text": [
      "10\n",
      "   s_id  ts         ev\n",
      "0     1   1      login\n",
      "1     1  16  read_post\n",
      "3     1  54    comment\n",
      "5     1  83     logout\n",
      "login\n"
     ]
    }
   ],
   "source": [
    "# Example python (pandas) input\n",
    "events = [\n",
    "    (1, 1, 'login'), (1, 16, 'read_post'), (2, 32, 'login'), (1, 54, 'comment'),\n",
    "    (3, 71, 'login'), (1, 83, 'logout'), (4, 105, 'login'), (5, 123, 'login'),\n",
    "    (3, 144, 'comment'), (3, 159, 'comment'), (5, 160, 'search'), (3, 180, 'search'),\n",
    "    (5, 182, 'read_post'), (2, 197, 'write_post'), (6, 207, 'login'), (3, 219, 'read_post'),\n",
    "    (6, 232, 'read_post'), (7, 250, 'login'), (7, 254, 'logout'), (2, 264, 'write_post'),\n",
    "    (5, 273, 'read_post'), (3, 285, 'comment'), (6, 290, 'comment'), (8, 290, 'login'),\n",
    "    (3, 301, 'logout'), (4, 305, 'error'), (6, 314, 'logout'), (9, 330, 'login'),\n",
    "    (8, 375, 'write_post'), (5, 381, 'read_post'), (9, 384, 'write_post'), (10, 399, 'login'),\n",
    "    (10, 415, 'read_post'), (9, 417, 'search'), (8, 436, 'search'), (8, 441, 'read_post'),\n",
    "    (5, 456, 'read_post'), (10, 456, 'comment'), (2, 464, 'error'), (5, 512, 'logout'),\n",
    "    (8, 523, 'logout'), (9, 617, 'error'), (10, 656, 'error')\n",
    "]\n",
    "\n",
    "import pandas as pd\n",
    "df = pd.DataFrame(events, columns = ['s_id', 'ts', 'ev'])\n",
    "#print(df.describe())\n",
    "print(df.s_id.nunique())\n",
    "\n",
    "df1 = df[df.s_id == 1]\n",
    "print(df1.head())\n",
    "print(df1.ev[0])\n",
    "\n",
    "#Question #1\n",
    "# ===========\n",
    "\n",
    "# How many different sessions are in the data?\n",
    "#\n",
    "# Write a query or function to count how many\n",
    "# distinct sessions `s_id` are present in the data.\n",
    "#count = 0\n",
    "#for ev in event:\n",
    "#    s_id = ev[0]\n",
    "    \n",
    "# Question 2\n",
    "# ============\n",
    "\n",
    "# Write a query or function to get the first event ev for each session s_id. Are they all login events?\n",
    "\n"
   ]
  },
  {
   "cell_type": "code",
   "execution_count": null,
   "metadata": {},
   "outputs": [],
   "source": []
  }
 ],
 "metadata": {
  "kernelspec": {
   "display_name": "Python 3",
   "language": "python",
   "name": "python3"
  },
  "language_info": {
   "codemirror_mode": {
    "name": "ipython",
    "version": 3
   },
   "file_extension": ".py",
   "mimetype": "text/x-python",
   "name": "python",
   "nbconvert_exporter": "python",
   "pygments_lexer": "ipython3",
   "version": "3.6.8"
  }
 },
 "nbformat": 4,
 "nbformat_minor": 2
}
