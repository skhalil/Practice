{
 "cells": [
  {
   "cell_type": "markdown",
   "metadata": {},
   "source": [
    "# Logistic Regression"
   ]
  },
  {
   "cell_type": "markdown",
   "metadata": {},
   "source": [
    "## Probability, Odds, log(Odds)"
   ]
  },
  {
   "cell_type": "code",
   "execution_count": 4,
   "metadata": {},
   "outputs": [
    {
     "name": "stdout",
     "output_type": "stream",
     "text": [
      "Probability 0.8\n",
      "Odds 4.0\n",
      "Probability 0.8\n",
      "Log-Odds 1.4\n",
      "Probability 0.8\n"
     ]
    }
   ],
   "source": [
    "# example of converting between probability and log-odds\n",
    "from math import log\n",
    "from math import exp\n",
    "\n",
    "# define our probability of success\n",
    "prob = 0.8\n",
    "print('Probability %.1f' % prob)\n",
    "\n",
    "# convert probability to odds\n",
    "odds = prob / (1 - prob)\n",
    "print('Odds %.1f' % odds)\n",
    "\n",
    "# convert back to probability\n",
    "#prob = odds / (odds + 1)\n",
    "prob = 1 / ( 1+ (1/odds))\n",
    "print('Probability %.1f' % prob)\n",
    "\n",
    "# convert odds to log-odds\n",
    "logodds = log(odds)\n",
    "print('Log-Odds %.1f' % logodds)\n",
    "\n",
    "# convert log-odds to a probability\n",
    "prob = 1 / (1 + exp(-logodds))\n",
    "print('Probability %.1f' % prob)"
   ]
  },
  {
   "cell_type": "markdown",
   "metadata": {},
   "source": [
    "## Likelihood Function\n",
    "\n",
    "\n",
    "L = min $\\sum_{i=0}^{i=n} -\\left( \\hat{y_i} * y_i  + (1 - \\hat{y_i})(1 -  y_i) \\right)$\n",
    "\n",
    "logL = min $\\sum_{i=0}^{i=n} -\\left( log\\hat{y_i} * y_i  + log(1 - \\hat{y_i})(1 -  y_i) \\right)$\n",
    "\n",
    "cross entropy = -(log(q(class1)) * p(class1) + log(q(class0)) * p(class0)); where q epresents the estimation of the probability distribution and p represents the probability of class 0 or class 1.\n",
    "\n",
    "https://machinelearningmastery.com/logistic-regression-with-maximum-likelihood-estimation/\n"
   ]
  },
  {
   "cell_type": "code",
   "execution_count": 6,
   "metadata": {},
   "outputs": [
    {
     "name": "stdout",
     "output_type": "stream",
     "text": [
      "y=1.0, yhat=0.9, likelihood: 0.900\n",
      "y=1.0, yhat=0.1, likelihood: 0.100\n",
      "y=0.0, yhat=0.1, likelihood: 0.900\n",
      "y=0.0, yhat=0.9, likelihood: 0.100\n"
     ]
    }
   ],
   "source": [
    "# test of Bernoulli likelihood function\n",
    " \n",
    "# likelihood function for Bernoulli distribution\n",
    "def likelihood(y, yhat):\n",
    "    return yhat * y + (1 - yhat) * (1 - y)\n",
    " \n",
    "# test for y=1\n",
    "y, yhat = 1, 0.9\n",
    "print('y=%.1f, yhat=%.1f, likelihood: %.3f' % (y, yhat, likelihood(y, yhat)))\n",
    "y, yhat = 1, 0.1\n",
    "print('y=%.1f, yhat=%.1f, likelihood: %.3f' % (y, yhat, likelihood(y, yhat)))\n",
    "# test for y=0\n",
    "y, yhat = 0, 0.1\n",
    "print('y=%.1f, yhat=%.1f, likelihood: %.3f' % (y, yhat, likelihood(y, yhat)))\n",
    "y, yhat = 0, 0.9\n",
    "print('y=%.1f, yhat=%.1f, likelihood: %.3f' % (y, yhat, likelihood(y, yhat)))"
   ]
  },
  {
   "cell_type": "markdown",
   "metadata": {},
   "source": [
    "# Cross Entropy:\n",
    "\n",
    "In information theory, the cross-entropy between two probability distributions `p` and `q` over the same underlying set of events measures the average number of bits needed to identify an event drawn from the set if a coding scheme used for the set is optimized for an estimated probability distribution `q`, rather than the true distribution `p`. "
   ]
  },
  {
   "cell_type": "markdown",
   "metadata": {},
   "source": [
    "# Shuffle a deck of cards\n",
    "\n",
    "1. First, fill the array with the values in order.\n",
    "\n",
    "2. Go through the array and exchange each element \n",
    "   with the randomly chosen element in the range \n",
    "   from itself to the end."
   ]
  },
  {
   "cell_type": "code",
   "execution_count": 1,
   "metadata": {},
   "outputs": [
    {
     "name": "stdout",
     "output_type": "stream",
     "text": [
      "input: [0, 1, 2, 3, 4, 5, 6, 7, 8, 9, 10, 11, 12, 13, 14, 15, 16, 17, 18, 19, 20, 21, 22, 23, 24, 25, 26, 27, 28, 29, 30, 31, 32, 33, 34, 35, 36, 37, 38, 39, 40, 41, 42, 43, 44, 45, 46, 47, 48, 49, 50, 51] \n",
      "\n",
      "shuffled: [11, 8, 27, 5, 14, 13, 26, 50, 23, 47, 2, 41, 25, 40, 15, 45, 29, 21, 34, 51, 48, 22, 0, 6, 35, 28, 1, 32, 19, 30, 33, 3, 46, 49, 44, 36, 42, 24, 4, 10, 18, 9, 17, 16, 7, 38, 39, 20, 43, 31, 12, 37] \n",
      "\n",
      "{0, 1, 2, 3, 4, 5, 6, 7, 8, 9, 10, 11, 12, 13, 14, 15, 16, 17, 18, 19, 20, 21, 22, 23, 24, 25, 26, 27, 28, 29, 30, 31, 32, 33, 34, 35, 36, 37, 38, 39, 40, 41, 42, 43, 44, 45, 46, 47, 48, 49, 50, 51}\n"
     ]
    }
   ],
   "source": [
    "import random\n",
    "\n",
    "def suffle(card,n):\n",
    "    \n",
    "    for i in range(0,n-1):  \n",
    "        #r =  random.randint(0,n)\n",
    "        #s = i + r%(n-i) \n",
    "        s = random.randint(i,n-1)\n",
    "        #print('i=%.0f, n-i=%.0f, r=%.0f, shuffle: %.0f' % (i, n-i, r, s))\n",
    "        #tmp=card[i] \n",
    "        #card[i]=card[s] \n",
    "        #card[s]=tmp \n",
    "        card[i], card[s] = card[s], card[i]\n",
    "    return card\n",
    "\n",
    "# Driver Code:\n",
    "if __name__ == '__main__':\n",
    "  \n",
    "    #l = sorted(random.sample(range(0, 52), 52)) # O(nlogn)\n",
    "    #print(l)\n",
    "    \n",
    "    a = [i for i in range(0,52)]\n",
    "    print('input:', a, '\\n')\n",
    "    n = len(a)\n",
    "    \n",
    "    #print (random.sample(range(0, 52), n))\n",
    "    new_a = suffle(a,n)\n",
    "    print('shuffled:', new_a, '\\n')\n",
    "    \n",
    "    # cross check\n",
    "    print(set(new_a))  "
   ]
  },
  {
   "cell_type": "markdown",
   "metadata": {},
   "source": [
    "# Shuffle a given array using Fisher–Yates shuffle Algorithm\n",
    "\n",
    "https://en.wikipedia.org/wiki/Fisher%E2%80%93Yates_shuffle\n",
    "\n",
    "Given an array, write a program to generate a random permutation of array elements. This question is also asked as “shuffle a deck of cards” or “randomize a given array”. Here shuffle means that every permutation of array element should equally likely.\n",
    "\n",
    "Fisher–Yates shuffle Algorithm\n",
    "0. We'll start by writing out the numbers from 1 to 8 \n",
    "1. For our first roll, we roll a random number from 1 to 8: this time it is 6, so we swap the 6th and 8th numbers in the list\n",
    "2. The next random number we roll from 1 to 7, and turns out to be 2. Thus, we swap the 2nd and 7th numbers and move on\n",
    "3. The next random number we roll is from 1 to 6, and just happens to be 6, which means we leave the 6th number in the list (which, after the swap above, is now number 8) in place and just move to the next step. Again, we proceed the same way until the permutation is complete.\n",
    "\n",
    "```\n",
    "Range Roll \tScratch \t   Result\n",
    "              1 2 3 4 5 6 7 8\n",
    "1–8 \t6 \t1 2 3 4 5 8 7 \t 6              \n",
    "1–7 \t2 \t1 7 3 4 5 8 \t 2 6               \n",
    "1–6 \t6 \t1 7 3 4 5 \t 8 2 6\n",
    "1–5 \t1 \t5 7 3 4 \t 1 8 2 6\n",
    "1–4 \t3 \t5 7 4 \t 3 1 8 2 6\n",
    "1–3 \t3 \t5 7 \t 4 3 1 8 2 6\n",
    "1–2 \t1 \t7 \t 5 4 3 1 8 2 6 \n",
    "\n",
    "-- To shuffle an array a of n elements (indices 0..n-1):\n",
    "for i from 0 to n−1 do\n",
    "     j ← random integer such that i ≤ j < n\n",
    "     exchange a[i] and a[j]\n",
    "\n",
    "```       "
   ]
  },
  {
   "cell_type": "code",
   "execution_count": 169,
   "metadata": {},
   "outputs": [
    {
     "name": "stdout",
     "output_type": "stream",
     "text": [
      "input: [1, 2, 3]\n",
      "i=0, j=1\n",
      "l= [2, 1, 3] \n",
      "\n",
      "i=1, j=2\n",
      "l= [2, 3, 1] \n",
      "\n",
      "[2, 3, 1]\n"
     ]
    }
   ],
   "source": [
    "def shuffle(l,n):\n",
    "    for i in range(0, n-1):\n",
    "        j = random.randint(i,n-1)\n",
    "        print('i=%.0f, j=%.0f'% (i, j))\n",
    "        #j = i + (random.randint(0, n)%(n-i))\n",
    "        l[i], l[j] = l[j], l[i]\n",
    "        print('l=', l, '\\n')\n",
    "    return l\n",
    "    \n",
    "\n",
    "if __name__ == '__main__':\n",
    "    a = [i for i in range(1, 4)]\n",
    "    n = len(a)\n",
    "    print('input:', a )\n",
    "    print(shuffle(a,n))\n",
    "    "
   ]
  },
  {
   "cell_type": "code",
   "execution_count": 34,
   "metadata": {},
   "outputs": [
    {
     "name": "stdout",
     "output_type": "stream",
     "text": [
      "(4, 2)\n",
      "4.123105625617661\n"
     ]
    }
   ],
   "source": [
    "import numpy as np\n",
    "#import array as arr \n",
    "def calc_distance(X1, X2):\n",
    "    #print(X1[0], X1[1])\n",
    "    return (sum((X1 - X2)**2))**0.5\n",
    "\n",
    "X = np.array([[1,5],[5,8],[8,1],[9,5]]) #4x2\n",
    "print(X.shape)\n",
    "            \n",
    "#X2 = np.array([[2,3],\n",
    "#               [4,5]])\n",
    "\n",
    "if __name__ == '__main__':\n",
    "     \n",
    "        \n",
    "    distances = []\n",
    "    for i in range(len(X)-1):\n",
    "        for j in range(i+1, len(X)): \n",
    "            distances += [calc_distance(X[i],X[j])]\n",
    "            #print(distances)\n",
    "    \n",
    "    print (min(distances))"
   ]
  },
  {
   "cell_type": "code",
   "execution_count": 33,
   "metadata": {},
   "outputs": [
    {
     "name": "stdout",
     "output_type": "stream",
     "text": [
      "4.123105625617661\n"
     ]
    }
   ],
   "source": [
    "points = [(1,5), (5,8), (8,1), (9,5)]\n",
    "\n",
    "def euclideanDistance(X1, X2):\n",
    "    return pow((X1[0] - X2[0]) **2 + (X1[1] - X2[1])** 2, .5)\n",
    "         \n",
    "distances = []\n",
    "for i in range(len(points)-1):\n",
    "    for j in range(i+1, len(points)):\n",
    "        distances += [euclideanDistance(points[i],points[j])]\n",
    "print (min(distances))\n"
   ]
  },
  {
   "cell_type": "code",
   "execution_count": null,
   "metadata": {},
   "outputs": [],
   "source": []
  }
 ],
 "metadata": {
  "kernelspec": {
   "display_name": "Python 3",
   "language": "python",
   "name": "python3"
  },
  "language_info": {
   "codemirror_mode": {
    "name": "ipython",
    "version": 3
   },
   "file_extension": ".py",
   "mimetype": "text/x-python",
   "name": "python",
   "nbconvert_exporter": "python",
   "pygments_lexer": "ipython3",
   "version": "3.6.8"
  }
 },
 "nbformat": 4,
 "nbformat_minor": 2
}
