{
 "cells": [
  {
   "cell_type": "markdown",
   "metadata": {},
   "source": [
    "# Median\n"
   ]
  },
  {
   "cell_type": "code",
   "execution_count": 1,
   "metadata": {},
   "outputs": [
    {
     "name": "stdout",
     "output_type": "stream",
     "text": [
      "input: [-5, 2, 3, 6, 8, 17]\n",
      "4.5\n",
      "input: [-81, 0, 4, 5, 12]\n",
      "4\n"
     ]
    }
   ],
   "source": [
    "A = [ 3, 2, 17, -5, 6, 8] \n",
    "B = [ 5, 4, 12, 0, -81 ]\n",
    "\n",
    "def median(l):\n",
    "    l.sort()\n",
    "    print ('input:', l)\n",
    "    index = (len(l)-1)//2 # -1 as list indicies starts with 0, 1, 2.., our goal is to find the mid or might left\n",
    "    if len(l)%2 == 0:\n",
    "        m = (l[index+1] + l[index])/2\n",
    "    else:\n",
    "        m = l[index]\n",
    "    return m\n",
    "\n",
    "print(median(A))\n",
    "print(median(B))\n"
   ]
  },
  {
   "cell_type": "code",
   "execution_count": 2,
   "metadata": {},
   "outputs": [
    {
     "name": "stdout",
     "output_type": "stream",
     "text": [
      "4.5\n"
     ]
    }
   ],
   "source": [
    "# Lets go easy first. Find the median of a list of numbers, A\n",
    "\n",
    "A = [ 3, 2, 17, -5, 6, 8] \n",
    "B = [ 5, 4, 12, 0, -81 ]\n",
    "\n",
    "def median(A):\n",
    "    n = len(A)\n",
    "    A.sort()\n",
    "    \n",
    "    # if n is odd, the median is the center element, else its the average \n",
    "    # of the two cnsective centered values.\n",
    "    \n",
    "    if n%2 == 1:        \n",
    "        med = A[n//2]\n",
    "    else:\n",
    "        med = (A[n//2]+A[n//2-1])/2       \n",
    "    return med \n",
    "\n",
    "if __name__ == \"__main__\":    \n",
    "    print(median(A))  "
   ]
  },
  {
   "cell_type": "markdown",
   "metadata": {},
   "source": [
    "# Moving Average"
   ]
  },
  {
   "cell_type": "code",
   "execution_count": 3,
   "metadata": {},
   "outputs": [
    {
     "name": "stdout",
     "output_type": "stream",
     "text": [
      "[-5, 2, 3, 6, 8, 17]\n",
      "[-1.5, 2.5, 4.5, 7.0, 12.5]\n"
     ]
    }
   ],
   "source": [
    "A = [ 3, 2, 17, -5, 6, 8] \n",
    "B = [ 5, 4, 12, 0, -81 ]\n",
    "\n",
    "def movingAve(list, window_size):\n",
    "    list.sort()\n",
    "    print(list)\n",
    "    ave_list = []\n",
    "    l = 0; r = len(list)-(window_size-1)\n",
    "    \n",
    "    while l < r:\n",
    "        sum_elements = sum(list[l:l+window_size])\n",
    "        ave_list.append(sum_elements/window_size)\n",
    "        l+=1 \n",
    "    return ave_list \n",
    "if __name__ == '__main__':    \n",
    "    print(movingAve(A, 2))\n"
   ]
  },
  {
   "cell_type": "code",
   "execution_count": 4,
   "metadata": {},
   "outputs": [
    {
     "name": "stdout",
     "output_type": "stream",
     "text": [
      "0\n",
      "1\n",
      "2\n",
      "3\n",
      "4\n",
      "[-1.5, 2.5, 4.5, 7.0, 12.5]\n"
     ]
    }
   ],
   "source": [
    "A = [ 3, 2, 17, -5, 6, 8] \n",
    "def movingAve(A, w):\n",
    "    A.sort()\n",
    "    mov_ave = []\n",
    "    l = 0; r = len(A)-(w-1)\n",
    "    \n",
    "    while (l<r):\n",
    "        print(l)\n",
    "        sum_l = sum(A[l:l+w])\n",
    "        ave = sum_l/w\n",
    "        mov_ave.append(ave)\n",
    "        l+=1\n",
    "    return mov_ave    \n",
    " \n",
    "if __name__==\"__main__\":\n",
    "    print(movingAve(A,2))"
   ]
  },
  {
   "cell_type": "markdown",
   "metadata": {},
   "source": [
    "Given an array of time intervals (start, end) for classroom lectures (possibly overlapping), find the minimum number of rooms required.\n",
    "\n",
    "For example, given [(30, 75), (0, 50), (60, 150)], you should return 2."
   ]
  },
  {
   "cell_type": "code",
   "execution_count": 16,
   "metadata": {},
   "outputs": [
    {
     "name": "stdout",
     "output_type": "stream",
     "text": [
      "30 75\n",
      "0 50\n",
      "60 150\n",
      "2\n"
     ]
    }
   ],
   "source": [
    "def solution(delta_t):\n",
    "    '''\n",
    "    1. fill a large time_container with 0 minutes\n",
    "    2. increment/decrement the time_container by 1 for the start/stop time (minutes) given in delta_t list\n",
    "    3. by finding the sum of the elements of the time_container, the label will be changed as 1, 1, 1 .., if \n",
    "       the room is occupied, and will be changed to 2, 2, 2, .., if there will be an overlap of class time, \n",
    "       when the first class will finish, then we will decrement the label back to 1. Thus for the overlap \n",
    "       period the lable will be more than 1, else it will be 1 which corresponds to the number of rooms required \n",
    "       in a time series.\n",
    "    '''\n",
    "    # fill a large time_counter with 0 minutes\n",
    "    time_container = [0 for i in range(256)]\n",
    "    \n",
    "    for i in delta_t:\n",
    "        #print(i[0], i[1])\n",
    "        time_container[i[0]] += 1\n",
    "        time_container[i[1]] += -1\n",
    "        \n",
    "    #print(time_container)    \n",
    "    rooms, tmp = 0, 0\n",
    "    \n",
    "    for ind, t in enumerate(time_container):\n",
    "        #print(ind, t)\n",
    "        tmp += t\n",
    "        #print(ind, tmp)\n",
    "        if(tmp > rooms):\n",
    "            #print(tmp)\n",
    "            rooms = tmp\n",
    "    return rooms\n",
    " \n",
    "delta_t = [[30, 75], [0, 50], [60, 150]]\n",
    "#delta_t = []\n",
    "#delta_t = [[0, 60]]\n",
    "print (solution(delta_t))"
   ]
  },
  {
   "cell_type": "markdown",
   "metadata": {},
   "source": [
    "# Single Number\n",
    "\n",
    "- Leet Code Problem 126\n",
    "\n",
    "Given a non-empty array of integers, every element appears twice except for one. Find that single one.\n",
    "\n",
    "https://leetcode.com/problems/single-number/\n",
    "\n",
    "Return a solution with linear runtime complexity and without using extra memory."
   ]
  },
  {
   "cell_type": "code",
   "execution_count": 17,
   "metadata": {},
   "outputs": [
    {
     "name": "stdout",
     "output_type": "stream",
     "text": [
      "4\n",
      "26.4 ns ± 1.18 ns per loop (mean ± std. dev. of 7 runs, 10000000 loops each)\n"
     ]
    }
   ],
   "source": [
    "def singleNumber(nums): \n",
    "    \"\"\"\n",
    "        :type nums: List[int]\n",
    "        :rtype: int\n",
    "    \"\"\"\n",
    "    for x in nums:\n",
    "        if nums.count(x) == 1: return(x)\n",
    "            \n",
    "    #print({x for x in nums if nums.count(x) == 1})\n",
    "    #return ( list({x for x in nums if nums.count(x) == 1})[0] )\n",
    "out = singleNumber([1,2,4,1,2])\n",
    "print(out)\n",
    "%timeit out"
   ]
  },
  {
   "cell_type": "code",
   "execution_count": 117,
   "metadata": {},
   "outputs": [
    {
     "name": "stdout",
     "output_type": "stream",
     "text": [
      "0 1\n",
      "1 3\n",
      "2 7\n",
      "3 6\n",
      "4 4\n",
      "4\n",
      "26 ns ± 1.2 ns per loop (mean ± std. dev. of 7 runs, 10000000 loops each)\n"
     ]
    }
   ],
   "source": [
    "# O(n) time and space\n",
    "def singleNumber(nums): \n",
    "    res = 0\n",
    "    for i in range (len(nums)):\n",
    "    \n",
    "        res ^= nums[i]\n",
    "        print(i, res)\n",
    "    return res\n",
    "out = singleNumber([1,2,4,1,2])\n",
    "print(out)\n",
    "%timeit out"
   ]
  },
  {
   "cell_type": "markdown",
   "metadata": {},
   "source": [
    "- Return a list of non-repeated numbers in linear runtime complexity"
   ]
  },
  {
   "cell_type": "code",
   "execution_count": null,
   "metadata": {},
   "outputs": [],
   "source": [
    "def singleNumber(nums):\n",
    "    \"\"\"\n",
    "    :type nums: List[int]\n",
    "    :rtype: List[int]\n",
    "    \"\"\"\n",
    "    return [x for x in nums if nums.count(x)==1]\n",
    "print(singleNumber([1,2,1,3,2,5]))"
   ]
  },
  {
   "cell_type": "code",
   "execution_count": null,
   "metadata": {},
   "outputs": [],
   "source": [
    "def solve(num):\n",
    "    sum_num = sum([int(i) for i in list(str(num))])\n",
    "    return sum_num\n",
    "n = 123\n",
    "print(solve(n))\n"
   ]
  },
  {
   "cell_type": "markdown",
   "metadata": {},
   "source": [
    "# Two Sum I\n",
    "\n",
    "Given an array of integers that is already sorted in ascending order, find two numbers such that they add up to a specific target number.\n",
    "\n",
    "The function twoSum should return indices of the two numbers such that they add up to the target, where index1 must be less than index2.\n",
    "\n",
    "Note:\n",
    "\n",
    "    Your returned answers (both index1 and index2) are not zero-based.\n",
    "    You may assume that each input would have exactly one solution and you may not use the same element twice."
   ]
  },
  {
   "cell_type": "code",
   "execution_count": 18,
   "metadata": {},
   "outputs": [
    {
     "name": "stdout",
     "output_type": "stream",
     "text": [
      "[1, 6]\n"
     ]
    }
   ],
   "source": [
    "\n",
    "def twoSum(numbers, target):\n",
    "    \"\"\"\n",
    "    :type numbers: List[int]\n",
    "    :type target: int\n",
    "    :rtype: List[int]\n",
    "    \"\"\"\n",
    "    total = 0\n",
    "    '''    \n",
    "    for i, a in enumerate(numbers[:-1], start=1):\n",
    "        print('i-->', i,a)\n",
    "        for j, b in enumerate(numbers[1:], start=2):\n",
    "            print ('j-->',j,b)\n",
    "            total = a + b\n",
    "            if total < target: continue    \n",
    "            print(i,j)\n",
    "            if (target - total) == 0:\n",
    "                 return([i, j])\n",
    "    ''' \n",
    "    \n",
    "    \n",
    "    l=0; r=len(numbers) - 1\n",
    "    while(l < r):\n",
    "        #print(l, r)\n",
    "        total = numbers[l] + numbers[r]\n",
    "        #print(total)\n",
    "        if total > target: r-=1\n",
    "        elif total < target: l+=1 \n",
    "        else: return[l+1, r+1]    \n",
    "    '''\n",
    "    \n",
    "    # This soloution assumes that numbers to be added are consective\n",
    "    seen = set()\n",
    "    seen.add(numbers[0])\n",
    "    l1 = []\n",
    "    for ind,val in enumerate(numbers[1:],2) :\n",
    "        d = target - val\n",
    "        print (d, val)\n",
    "        # store the index and next consective index of the number\n",
    "        if d in seen :\n",
    "            print(seen)\n",
    "            l1.append(numbers.index(d)+1)\n",
    "            l1.append(ind)\n",
    "        else :\n",
    "            # add to the set if its seen\n",
    "            seen.add(val)\n",
    "         \n",
    "    return l1\n",
    "    '''        \n",
    "numbers = [1,3,4,5,7,10,11]#[1,2,3,4,4,9,56,90]#\n",
    "target = 11#8#9\n",
    "print(twoSum(numbers, target ))"
   ]
  },
  {
   "cell_type": "code",
   "execution_count": 29,
   "metadata": {},
   "outputs": [
    {
     "name": "stdout",
     "output_type": "stream",
     "text": [
      "[0, 5]\n"
     ]
    }
   ],
   "source": [
    "# Given an array of integers that is already sorted in ascending order,\n",
    "# return indices of the two numbers such that they add up to the target\n",
    "\n",
    "def sumTwo(numbers, target):\n",
    "    \n",
    "    l = 0; r = len(numbers)-1\n",
    "    total = 0\n",
    "    \n",
    "    while(l<r):\n",
    "        total = numbers[l]+numbers[r]\n",
    "        \n",
    "        if total < target:\n",
    "            l+=1\n",
    "        elif total > target:\n",
    "            r-=1\n",
    "        else:\n",
    "            return [l, r]\n",
    "            \n",
    "            \n",
    "    \n",
    "\n",
    "if __name__ == \"__main__\":\n",
    "    \n",
    "    numbers = [1,3,4,5,7,10,11]\n",
    "    target = 11\n",
    "    \n",
    "    print(sumTwo(numbers, target))"
   ]
  },
  {
   "cell_type": "markdown",
   "metadata": {},
   "source": [
    "# Two Sum II\n",
    "Given a list of numbers and a number k, return whether any two numbers from the list add up to k.\n",
    "\n",
    "For example, given [10, 15, 3, 7] and k of 17, return true since 10 + 7 is 17."
   ]
  },
  {
   "cell_type": "code",
   "execution_count": 19,
   "metadata": {},
   "outputs": [
    {
     "name": "stdout",
     "output_type": "stream",
     "text": [
      "True\n"
     ]
    }
   ],
   "source": [
    "def TwoSum (A, k):\n",
    "    '''\n",
    "    for i in A[:-1]:\n",
    "        for j in A[1:]:\n",
    "            #print (i, j)\n",
    "            if j == i: continue\n",
    "            \n",
    "            if i+j == k: \n",
    "                return True\n",
    "    '''\n",
    "            \n",
    "    l=0; r=len(A) - 1\n",
    "    while(l < r):        \n",
    "        total = A[l] + A[r]        \n",
    "        if total > k: r-=1\n",
    "        elif total < k: l+=1 \n",
    "        else: return True           \n",
    "    \n",
    "A = [10, 15, 3, 7] ; k =17\n",
    "print(TwoSum(A,k))"
   ]
  },
  {
   "cell_type": "markdown",
   "metadata": {},
   "source": [
    "# Sum Two Arrays (Ravi's question)\n",
    "Given two arrays and a target value, find a pair of numbers (one from each array) whose sum is closest to the target. A=[ 3, 2, 17, -5, 6 ] B= [ 5, 4, 12, 0, -81 ], Target = 13, return (2,12)\n"
   ]
  },
  {
   "cell_type": "code",
   "execution_count": 20,
   "metadata": {},
   "outputs": [
    {
     "name": "stdout",
     "output_type": "stream",
     "text": [
      "[2, 12]\n"
     ]
    }
   ],
   "source": [
    "def TwoSumFromArrays (A, B, k):\n",
    "    distance = 0\n",
    "    while (distance < k):\n",
    "        for i in A:\n",
    "            for j in B:\n",
    "                sumTwo = i+j\n",
    "                #print (sumTwo, abs(sumTwo-k), distance)\n",
    "                if (distance == abs(sumTwo-k)):\n",
    "                    return [i, j]\n",
    "        distance+=1 \n",
    "A = [ 3, 2, 17, -5, 6 ] \n",
    "B = [ 5, 4, 12, 0, -81 ]\n",
    "k = 13\n",
    "\n",
    "print(TwoSumFromArrays (A, B, k))"
   ]
  },
  {
   "cell_type": "code",
   "execution_count": 21,
   "metadata": {},
   "outputs": [
    {
     "name": "stdout",
     "output_type": "stream",
     "text": [
      "A [-5, 2, 3, 6, 17]\n",
      "B [-81, 0, 4, 5, 12]\n",
      "0 18 18\n",
      "0 11 11\n",
      "0 10 10\n",
      "0 7 7\n",
      "0 -4 -4\n",
      "1 19 17\n",
      "1 12 10\n",
      "[2, 12]\n"
     ]
    }
   ],
   "source": [
    "def TwoSumFromArrays (A, B, k):\n",
    "    #print(set(A))\n",
    "    A.sort()\n",
    "    B.sort()\n",
    "    print('A', A)\n",
    "    print('B', B)\n",
    "    \n",
    "    distance = 0\n",
    "    while (distance < k):\n",
    "        for i in A:\n",
    "            # edge case if sum is k+/-1\n",
    "            num1 = k - i + distance\n",
    "            num2 = k - i - distance\n",
    "            print(distance, num1, num2)\n",
    "            if num1 in B: return [i, num1]\n",
    "            elif num2 in B: return [i, num2]\n",
    "                    \n",
    "        distance+=1 \n",
    "        \n",
    "    \n",
    "A = [ 3, 2, 17, -5, 6 ] \n",
    "B = [ 5, 4, 12, 0, -81 ]\n",
    "k = 13\n",
    "\n",
    "print(TwoSumFromArrays (A, B, k))    "
   ]
  },
  {
   "cell_type": "code",
   "execution_count": 22,
   "metadata": {},
   "outputs": [
    {
     "name": "stdout",
     "output_type": "stream",
     "text": [
      "A [3, 5, 10, 11, 12]\n",
      "B [0, 10, 20, 45, 49]\n",
      "[5, 45]\n"
     ]
    }
   ],
   "source": [
    "def TwoSumFromArrays (A, B, k):\n",
    "    #print(set(A))\n",
    "    A.sort()\n",
    "    B.sort()\n",
    "    print('A', A)\n",
    "    print('B', B)\n",
    "    \n",
    "    #initialized to the largest possible value\n",
    "    smallest_dist = abs(A[0] + B[0] - k)\n",
    "    closest_pair = [A[0], B[0]]\n",
    "    \n",
    "    # get the most left and right index of the array\n",
    "    l = 0; r = len(A) - 1\n",
    "    \n",
    "    while(l<r) and r >= 0:\n",
    "        \n",
    "        current_dist = A[l] + B[r] - k\n",
    "        \n",
    "        if abs(current_dist) < smallest_dist:\n",
    "            smallest_dist = abs(current_dist)\n",
    "            closest_pair  = [A[l], B[r]]\n",
    "        \n",
    "        if current_dist < 0: l+=1\n",
    "        elif current_dist > 0: r-=1\n",
    "        else: break    \n",
    "        \n",
    "    return closest_pair  \n",
    "    \n",
    "#A = [ 3, 2, 17, -5, 6 ] \n",
    "#B = [ 5, 4, 12, 0, -81 ]\n",
    "#k = 13\n",
    "\n",
    "#A, B = [0,1,2,3,4], [0,1,2,3,4]\n",
    "#k = 6\n",
    "\n",
    "A, B = [3,5,10,11,12], [0,10,20,45,49]\n",
    "k = 50\n",
    "print(TwoSumFromArrays (A, B, k))            "
   ]
  },
  {
   "cell_type": "markdown",
   "metadata": {},
   "source": [
    "# Three Sum\n",
    "\n",
    "Given an array nums of n integers and an integer target, find three integers in nums such that the sum is closest to target. Return the sum of the three integers. You may assume that each input would have exactly one solution.\n",
    "\n",
    "problem 16: https://leetcode.com/problems/3sum-closest/"
   ]
  },
  {
   "cell_type": "code",
   "execution_count": 24,
   "metadata": {},
   "outputs": [
    {
     "name": "stdout",
     "output_type": "stream",
     "text": [
      "input: [-100, -98, -2, -1]\n",
      "-101\n"
     ]
    }
   ],
   "source": [
    "def threeSum(nums, target):\n",
    "    \"\"\"\n",
    "    :type nums: List[int]\n",
    "    :type target: int\n",
    "    :rtype: int\n",
    "    \"\"\"\n",
    "    nums.sort()\n",
    "    print('input:',nums)\n",
    "    diff = float('inf')\n",
    "    \n",
    "    total = 0    \n",
    "    for i in range(len(nums)):\n",
    "        l = i + 1; r = len(nums) - 1\n",
    "        while (l < r):\n",
    "            total = nums[i] + nums[l] + nums[r]\n",
    "            # update the diff\n",
    "            if abs(target - total) < abs(diff):\n",
    "                diff = target - total\n",
    "            if total > target: r -= 1\n",
    "            elif total < target: l += 1\n",
    "            else: break\n",
    "    #print(diff)            \n",
    "    return target-diff            \n",
    "    '''\n",
    "    for i,t in enumerate(nums) :\n",
    "        \n",
    "        \n",
    "        # skip the duplicate value in the list\n",
    "        if (i>0 and t == nums[i-1]): continue\n",
    "            \n",
    "        sum_three = []\n",
    "        l=0; r=len(nums) - 1\n",
    "        print(nums[l], nums[r], t)\n",
    "        while(l < r):\n",
    "            print(nums[l], nums[r])\n",
    "            total = nums[l] + nums[r] \n",
    "            print('total', total)\n",
    "            if total > t: r-=1\n",
    "            elif total < t: l+=1 \n",
    "            else: sum_three=[nums[l], nums[r], t]; break       \n",
    "    '''    \n",
    "            \n",
    "    \n",
    "         \n",
    "nums = [-100, -98 , -2, -1]#[-1,2,1,-4]\n",
    "target = -101#1    \n",
    "print(threeSum(nums, target))"
   ]
  },
  {
   "cell_type": "markdown",
   "metadata": {},
   "source": [
    "# sumEvenAfterQueries\n",
    "We have an array A of integers, and an array queries of queries.\n",
    "\n",
    "For the i-th query val = queries[i][0], index = queries[i][1], we add val to A[index].  Then, the answer to the i-th query is the sum of the even values of A.\n",
    "\n",
    "(Here, the given index = queries[i][1] is a 0-based index, and each query permanently modifies the array A.)\n",
    "\n",
    "Return the answer to all queries.  Your answer array should have answer[i] as the answer to the i-th query.\n",
    "https://leetcode.com/problems/sum-of-even-numbers-after-queries/"
   ]
  },
  {
   "cell_type": "code",
   "execution_count": 26,
   "metadata": {},
   "outputs": [
    {
     "name": "stdout",
     "output_type": "stream",
     "text": [
      "6\n",
      "[8, 6, 2, 4]\n"
     ]
    }
   ],
   "source": [
    "class Solution(object):\n",
    "    \n",
    "    def __init__(self, A, queries):\n",
    "        self.A = A\n",
    "        self.queries = queries\n",
    "        \n",
    "    def sumEvenAfterQueries(self, A, queries):\n",
    "        \"\"\"\n",
    "        :type A: List[int]\n",
    "        :type queries: List[List[int]]\n",
    "        :rtype: List[int]\n",
    "        \"\"\"\n",
    "        answer = []\n",
    "        \n",
    "        sum_A_even =  sum(i for i in A if i%2==0)  \n",
    "        print(sum_A_even)\n",
    "        for l in queries:\n",
    "            ind = l[1]\n",
    "            val = l[0]   \n",
    "            if A[ind] % 2 == 0: sum_A_even-=A[ind]\n",
    "            A[ind] += val\n",
    "            if A[ind] % 2 == 0: sum_A_even+=A[ind]\n",
    "            answer.append(sum_A_even)\n",
    "        return answer \n",
    "        '''\n",
    "        # brute force\n",
    "        for l in queries:\n",
    "            ind = l[1]\n",
    "            val = l[0]  \n",
    "            A[ind] += val\n",
    "            answer.append(sum(i for i in A if i%2==0))\n",
    "        return answer \n",
    "        '''\n",
    "A = [1,2,3,4]\n",
    "queries = [[1,0],[-3,1],[-4,0],[2,3]]\n",
    "ans = Solution(A, queries)\n",
    "print (ans.sumEvenAfterQueries(A, queries))"
   ]
  },
  {
   "cell_type": "code",
   "execution_count": 106,
   "metadata": {},
   "outputs": [
    {
     "name": "stdout",
     "output_type": "stream",
     "text": [
      "[1, 3, 6, 8]\n"
     ]
    }
   ],
   "source": [
    "# bubble sorting\n",
    "def bs(A):                   # A = name of list\n",
    "    n=len(A)-1\n",
    "    \n",
    "    for i in range(n):\n",
    "        #print('i-->', i)\n",
    "        for j in range(n-i):\n",
    "            #print('j', j)\n",
    "            \n",
    "            if A[j] > A[j+1]:\n",
    "                A[j],A[j+1] = A[j+1],A[j]\n",
    "    return A\n",
    "A=[3,6,1,8]\n",
    "print(bs(A))"
   ]
  },
  {
   "cell_type": "code",
   "execution_count": 116,
   "metadata": {},
   "outputs": [
    {
     "name": "stdout",
     "output_type": "stream",
     "text": [
      "in [23, 11, 45, 60, 8, 20, 10]\n",
      "out [8, 10, 11, 20, 23, 45, 60]\n"
     ]
    }
   ],
   "source": [
    "def sort_bubble(l):\n",
    "    i = 0\n",
    "    while i < len(l): \n",
    "        for j in range(len(l)-i-1): #last element always get in place with the max by the end of for loop                       \n",
    "            if l[j] > l[j+1]: \n",
    "                l[j],l[j+1] = l[j+1],l[j] \n",
    "                #print(l)\n",
    "        i += 1\n",
    "    return (l)\n",
    "\n",
    "l = [23, 11, 45, 60, 8, 20, 10]\n",
    "print ('in', l)\n",
    "print('out', sort_bubble(l))    "
   ]
  },
  {
   "cell_type": "markdown",
   "metadata": {},
   "source": [
    "# To-do\n",
    "#Given an array nums of n integers, are there elements a, b, c in nums such that a + b + c = 0? Find all unique #triplets in the array which gives the sum of zero.\n",
    "\n",
    "#Notice that the solution set must not contain duplicate triplets.\n",
    "#https://leetcode.com/problems/3sum/"
   ]
  },
  {
   "cell_type": "markdown",
   "metadata": {},
   "source": [
    "# Rotation\n",
    "\n",
    "Shift the elements by 3 in a list"
   ]
  },
  {
   "cell_type": "code",
   "execution_count": 27,
   "metadata": {},
   "outputs": [
    {
     "name": "stdout",
     "output_type": "stream",
     "text": [
      "[4, 5, 6, 1, 2, 3]\n"
     ]
    }
   ],
   "source": [
    "def solution(A, k):\n",
    "    r=len(A)-1\n",
    "    l = 0\n",
    "    while l<k:\n",
    "        temp = A[0]\n",
    "        A[0:r] = A[1:r+1]\n",
    "        A[r] = temp\n",
    "        l+=1\n",
    "    return A\n",
    "\n",
    "# use case\n",
    "A = [1, 2, 3, 4, 5, 6]\n",
    "k = 3\n",
    "print(solution(A, k))"
   ]
  },
  {
   "cell_type": "code",
   "execution_count": 28,
   "metadata": {},
   "outputs": [
    {
     "name": "stdout",
     "output_type": "stream",
     "text": [
      "[4, 5, 6, 1, 2, 3]\n"
     ]
    }
   ],
   "source": [
    "def solution(A, k):\n",
    "    if len(A) == 0:\n",
    "        return A\n",
    "\n",
    "    k = k % len(A)\n",
    "    \n",
    "    return A[-k:] + A[:-k]\n",
    "\n",
    "# use case\n",
    "A = [1, 2, 3, 4, 5, 6]\n",
    "k = 3\n",
    "print(solution(A, k))\n"
   ]
  },
  {
   "cell_type": "markdown",
   "metadata": {},
   "source": [
    "Given a list of integers, write a function that returns the largest sum of non-adjacent numbers. Numbers can be 0 or negative.\n",
    "\n",
    "For example, [2, 4, 6, 2, 5] should return 13, since we pick 2, 6, and 5. [5, 1, 1, 5] should return 10, since we pick 5 and 5."
   ]
  },
  {
   "cell_type": "code",
   "execution_count": null,
   "metadata": {},
   "outputs": [],
   "source": [
    "def soloution(A):\n",
    "    sum_list = 0\n",
    "    #A_list = []\n",
    "    l = 0; r = len(A)-1;\n",
    "    if len(A) == 0:\n",
    "        sum_list = sum(A)\n",
    "    else:\n",
    "        while l <= r:\n",
    "            if l%2 == 0: \n",
    "                print (A[l])\n",
    "                sum_list+=A[l]\n",
    "            l+=1\n",
    "            \n",
    "    return sum_list\n",
    "A =  [2, 4, 6, 2, 5]\n",
    "B = [5,1,1,5] #???????\n",
    "print(soloution(B))"
   ]
  },
  {
   "cell_type": "markdown",
   "metadata": {},
   "source": [
    "# Get Prime Numbers (Dynamic)\n",
    "\n",
    "Write a function that returns a list of prime numbers as multiple factors of that number. For n = 630, the prime numbers are [2, 3, 3, 5, 7] such that 2x3x3x5x7 = 630."
   ]
  },
  {
   "cell_type": "code",
   "execution_count": 126,
   "metadata": {},
   "outputs": [
    {
     "name": "stdout",
     "output_type": "stream",
     "text": [
      "[2, 3, 3]\n"
     ]
    }
   ],
   "source": [
    "def getPrimeFactors(n):\n",
    "    primeFactors = []\n",
    "    d = 2       \n",
    "    while d <= n: \n",
    "        if n%d == 0: \n",
    "            primeFactors.append(d)\n",
    "            n = n/d                 \n",
    "        else:\n",
    "            d+=1               \n",
    "    return primeFactors    \n",
    "\n",
    "if __name__ == '__main__': \n",
    "    n = 18; # 18=2x3x3\n",
    "    print(getPrimeFactors(n))"
   ]
  },
  {
   "cell_type": "code",
   "execution_count": null,
   "metadata": {},
   "outputs": [],
   "source": [
    "class factors(object):\n",
    "    \n",
    "    def __init__(self, number):\n",
    "        self.number = number\n",
    "    \n",
    "    \n",
    "    def getPrimeFactors(self):\n",
    "        primeFactors = []\n",
    "        divisor = 2\n",
    "        \n",
    "        while divisor <= self.number: \n",
    "            if self.number%divisor == 0: \n",
    "                primeFactors.append(divisor)\n",
    "                self.number = self.number/divisor                  \n",
    "            else:\n",
    "                divisor+=1               \n",
    "        return primeFactors    \n",
    "         \n",
    "\n",
    "\n",
    "n = 630; # 18=2x3x3\n",
    "f = factors(n)\n",
    "print(f.getPrimeFactors())"
   ]
  },
  {
   "cell_type": "code",
   "execution_count": 128,
   "metadata": {},
   "outputs": [
    {
     "data": {
      "text/plain": [
       "<matplotlib.collections.PathCollection at 0x11773ca20>"
      ]
     },
     "execution_count": 128,
     "metadata": {},
     "output_type": "execute_result"
    },
    {
     "data": {
      "image/png": "[encoded data removed]",
      "text/plain": [
       "<Figure size 432x288 with 1 Axes>"
      ]
     },
     "metadata": {
      "needs_background": "light"
     },
     "output_type": "display_data"
    }
   ],
   "source": [
    "from matplotlib import pyplot as plt\n",
    "import numpy as np\n",
    "\n",
    "rho = np.sqrt(np.random.uniform(0, 1, 5000))\n",
    "phi = np.random.uniform(0, 2*np.pi, 5000)\n",
    "\n",
    "x = rho * np.cos(phi)\n",
    "y = rho * np.sin(phi)\n",
    "\n",
    "plt.scatter(x, y, s = 4)\n"
   ]
  },
  {
   "cell_type": "markdown",
   "metadata": {},
   "source": [
    "# Product of N-1 (Run time check)\n",
    "Given an array of integers, return a new array such that each element at index i of the new array is the product of all the numbers in the original array except the one at i.\n",
    "\n",
    "For example, if our input was [1, 2, 3, 4, 5], the expected output would be [120, 60, 40, 30, 24]. If our input was [3, 2, 1], the expected output would be [2, 3, 6]."
   ]
  },
  {
   "cell_type": "code",
   "execution_count": null,
   "metadata": {},
   "outputs": [],
   "source": [
    "from functools import reduce\n",
    "from operator import mul\n",
    "import numpy as np\n",
    "import numexpr as ne\n",
    "\n",
    "def product_N_minus1_A(aList):\n",
    "    p_list = []\n",
    "    for n, i in enumerate(aList):\n",
    "        list_N_minus1 = list(filter(lambda x: x!=i, aList))        \n",
    "        #print(aList.pop(n), i)\n",
    "        p = reduce(lambda x,y : x*y, list_N_minus1)\n",
    "        p_list.append(p)\n",
    "    return p_list\n",
    "\n",
    "def product_N_minus1_B(aList):\n",
    "    p_list = []\n",
    "    for n, i in enumerate(aList):\n",
    "        list_N_minus1 = list(filter(lambda x: x!=i, aList))\n",
    "        p = reduce(mul, list_N_minus1)\n",
    "        p_list.append(p)\n",
    "    return p_list\n",
    "\n",
    "def product_N_minus1_C(aList):\n",
    "    p_list = []\n",
    "    for n, i in enumerate(aList):\n",
    "        list_N_minus1 = list(filter(lambda x: x!=i, aList))\n",
    "        p = np.prod(list_N_minus1)\n",
    "        p_list.append(p)\n",
    "    return p_list\n",
    "\n",
    "\n",
    "def product_N_minus1_D(aList):\n",
    "    p_list = []\n",
    "    for n, i in enumerate(aList):\n",
    "        list_N_minus1 = list(filter(lambda x: x!=i, aList))\n",
    "        p=1\n",
    "        for x in list_N_minus1:\n",
    "            p *= x\n",
    "        p_list.append(p)\n",
    "    return p_list\n",
    "\n",
    "a = [1,2,3,4,5] \n",
    "\n",
    "out_A = product_N_minus1_A(a)\n",
    "print('A:', out_A)\n",
    "%timeit out_A\n",
    "\n",
    "out_B = product_N_minus1_B(a)\n",
    "print('B:', out_B)\n",
    "%timeit out_B\n",
    "\n",
    "out_C = product_N_minus1_C(a)\n",
    "print('C:', out_C)\n",
    "%timeit out_C\n",
    "\n",
    "out_D = product_N_minus1_D(a)\n",
    "print('D:', out_D)\n",
    "%timeit out_D\n",
    "\n"
   ]
  },
  {
   "cell_type": "markdown",
   "metadata": {},
   "source": [
    " # run-length Encoding (need to practice)\n",
    " A  is a run-length encoding of the sequence. For example, for sequence [8,8,8,5,5], A is [3,8,0,9,2,5] as it can be read as \"three eights, zero nines, two fives\". Write an iterator that iterates through a run-length encoded sequence."
   ]
  },
  {
   "cell_type": "code",
   "execution_count": 35,
   "metadata": {},
   "outputs": [
    {
     "name": "stdout",
     "output_type": "stream",
     "text": [
      "2 3\n",
      "3 3\n",
      "4 3\n",
      "1 0\n",
      "1 2\n",
      "3 2\n",
      "[None, 8, 8, 5, -1]\n"
     ]
    }
   ],
   "source": [
    "class RLEIterator(object):\n",
    "   \n",
    "    def __init__(self, A):\n",
    "        self.A = A\n",
    "        self.i = 0\n",
    "        self.q = 0\n",
    "        \n",
    "    \n",
    "\n",
    "    def next(self, n):\n",
    "        #print(n)\n",
    "        while self.i < len(self.A):\n",
    "            print(self.q + n, self.A[self.i]) \n",
    "            if self.q + n > self.A[self.i]:\n",
    "                n -= self.A[self.i] - self.q\n",
    "                \n",
    "                self.q = 0\n",
    "                self.i += 2\n",
    "            else:\n",
    "                self.q += n\n",
    "                #print(self.q)\n",
    "                return self.A[self.i+1]\n",
    "            \n",
    "        return -1\n",
    "    \n",
    "# Your RLEIterator object will be instantiated and called as such:\n",
    "\n",
    "# [\"RLEIterator\",\"next\",\"next\",\"next\",\"next\"], [[[3,8,0,9,2,5]],[2],[1],[1],[2]]\n",
    "A = [3,8,0,9,2,5] # map into [8,8,8,5,5]\n",
    "n = [[3,8,0,9,2,5], 2,1,1,2]\n",
    "\n",
    "obj = RLEIterator(A)\n",
    "out = []\n",
    "for i in n:\n",
    "    if type(i) != int: out.append(None)\n",
    "    else:    \n",
    "        param_1 = obj.next(i)\n",
    "        #print(param_1)\n",
    "        out.append(param_1)\n",
    "    \n",
    "print (out)    \n",
    "\n",
    "#param_1 = obj.next(n)\n"
   ]
  },
  {
   "cell_type": "markdown",
   "metadata": {},
   "source": [
    "# Decimal to Binary\n",
    "\n",
    "Keep calling conversion function with n/2  till n > 1,\n",
    "later perform n % 1 to get MSB of converted binary number.\n",
    "\n",
    "Example :- 7\n",
    "\n",
    "1). 7/2 = Quotient = 3(grater than 1), Remainder = 1.\n",
    "\n",
    "2). 3/2 = Quotient = 1(not grater than 1), Remainder = 1.\n",
    "\n",
    "3). 1%2 = Remainder = 1.\n",
    "\n",
    "Therefore, answer is 111."
   ]
  },
  {
   "cell_type": "code",
   "execution_count": 113,
   "metadata": {},
   "outputs": [
    {
     "name": "stdout",
     "output_type": "stream",
     "text": [
      "10 --> 0\n",
      "5 --> 1\n",
      "2 --> 0\n",
      "1 --> 1\n",
      "1010\n"
     ]
    }
   ],
   "source": [
    "def DecimalToBinary(num):\n",
    "    b_list = []\n",
    "    while(num>0):       \n",
    "        b_list.append(num % 2) \n",
    "        print(num, '-->',num%2)\n",
    "        num //= 2          \n",
    "    b = int(\"\".join(map(str, b_list[::-1])))\n",
    "    return b\n",
    "if __name__ == '__main__':       \n",
    "    dec_val = 10\n",
    "    print(DecimalToBinary(dec_val) )  "
   ]
  },
  {
   "cell_type": "code",
   "execution_count": 122,
   "metadata": {},
   "outputs": [
    {
     "name": "stdout",
     "output_type": "stream",
     "text": [
      "1010"
     ]
    }
   ],
   "source": [
    "def DecimalToBinary(num):\n",
    "        if num > 1:\n",
    "            DecimalToBinary(num // 2)            \n",
    "        print(num % 2, end = '') \n",
    "            \n",
    "# Driver Code \n",
    "if __name__ == '__main__':       \n",
    "    dec_val = 10    \n",
    "    DecimalToBinary(dec_val)   "
   ]
  },
  {
   "cell_type": "code",
   "execution_count": 120,
   "metadata": {},
   "outputs": [
    {
     "name": "stdout",
     "output_type": "stream",
     "text": [
      "1010\n"
     ]
    }
   ],
   "source": [
    "def DecimalToBinary(num):\n",
    "    return bin(num).replace(\"0b\", \"\").zfill(4) \n",
    "\n",
    "# Driver Code \n",
    "if __name__ == '__main__':       \n",
    "    dec_val = 10\n",
    "    print(DecimalToBinary(dec_val))"
   ]
  },
  {
   "cell_type": "markdown",
   "metadata": {},
   "source": [
    "# Binary to Decimal\n",
    "Example: 1011\n",
    "\n",
    "1). Take modulo of given binary number with 10. \n",
    "    (1011 % 10 = 1)\n",
    "    \n",
    "2). Multiply rem with 2 raised to the power\n",
    "    it's position from right end. \n",
    "    (1 * 2^0)\n",
    "    Note that we start counting position with 0. \n",
    "    \n",
    "3). Add result with previously generated result.\n",
    "    decimal = decimal + (1 * 2^0)\n",
    "    \n",
    "4). Update binary number by dividing it by 10.\n",
    "    (1011 / 10 = 101)\n",
    "    \n",
    "5). Keep repeating upper steps till binary > 0.\n",
    "\n",
    "Final Conversion -: (1 * 2^3) + (0 * 2^2) +\n",
    "                 (1 * 2^1) + (1 * 2^0) = 11"
   ]
  },
  {
   "cell_type": "code",
   "execution_count": null,
   "metadata": {},
   "outputs": [],
   "source": [
    "def binaryToDecimal(n): \n",
    "    return int(n,2) \n",
    "\n",
    "print(binaryToDecimal('10000'))"
   ]
  },
  {
   "cell_type": "markdown",
   "metadata": {},
   "source": [
    "# Twos Complement\n",
    "Convert an unsigned input integer to a two's complement signed integer using the above logic with bitwise operators.\n",
    "\n",
    "https://en.wikipedia.org/wiki/Two%27s_complement"
   ]
  },
  {
   "cell_type": "code",
   "execution_count": 118,
   "metadata": {},
   "outputs": [
    {
     "name": "stdout",
     "output_type": "stream",
     "text": [
      "3\n"
     ]
    }
   ],
   "source": [
    "def twos_complement(input_value: int, num_bits: int) -> int:\n",
    "    \"\"\"Calculates a two's complement integer from the given input value's bits.\"\"\"\n",
    "    mask = 2 ** (num_bits - 1)\n",
    "    return -(input_value & mask) + (input_value & ~mask)\n",
    "print(twos_complement(3, 3))"
   ]
  },
  {
   "attachments": {
    "image.png": {
     "image/png": "[encoded data removed]"
    }
   },
   "cell_type": "markdown",
   "metadata": {},
   "source": [
    "# Bit Count from [0, num]\n",
    "Given a non negative integer number num. For every numbers i in the range 0 ≤ i ≤ num calculate the number of 1's in their binary representation and return them as an array.\n",
    "https://leetcode.com/problems/counting-bits/\n",
    "\n",
    "![image.png](attachment:image.png)\n",
    "\n",
    "formula: `result[i] = 1 + result[i - pow]`"
   ]
  },
  {
   "cell_type": "code",
   "execution_count": 124,
   "metadata": {},
   "outputs": [
    {
     "name": "stdout",
     "output_type": "stream",
     "text": [
      "1010"
     ]
    }
   ],
   "source": [
    "def DecimalToBinary(num):\n",
    "        if num > 1:\n",
    "            DecimalToBinary(num // 2)            \n",
    "        print(num % 2, end = '') \n",
    "            \n",
    "# Driver Code \n",
    "if __name__ == '__main__':       \n",
    "    dec_val = 10    \n",
    "    DecimalToBinary(dec_val)   "
   ]
  },
  {
   "cell_type": "code",
   "execution_count": 125,
   "metadata": {},
   "outputs": [
    {
     "name": "stdout",
     "output_type": "stream",
     "text": [
      "10\n",
      "\n",
      "11\n",
      "\n",
      "2 AND 3  =  2\n",
      "2 OR 3  =  3\n",
      "2 NOT  =  -3\n",
      "3 NOT  =  -4\n",
      "2 XOR 3  =  1\n",
      "2 >> 3  =  0\n",
      "2 << 3  =  16\n"
     ]
    }
   ],
   "source": [
    "a = 2; DecimalToBinary(a);\n",
    "print('\\n')\n",
    "b = 3; DecimalToBinary(b)\n",
    "print('\\n')\n",
    "\n",
    "print(a,'AND',b, ' = ', a&b)     # 10\n",
    "print(a,'OR',b, ' = ', a|b)      # 11\n",
    "print(a,'NOT  = ', ~a)  # =-x-1 = -2-1 #two's complement arithmetic \n",
    "print(b,'NOT  = ', ~b)  # =-x-1 = -3-1 \n",
    "print(a,'XOR',b, ' = ', a^b)\n",
    "print(a,'>>',b, ' = ', a>>b)     #right shift a by b, i.e, right shift 00000->010 by 3 => 010+00000 = 01000000 ?\n",
    "print(a,'<<',b, ' = ', a<<b)     #left shift a by b; i.e, left shift 000<-00010 by 3 => 00010+000 = 00010000"
   ]
  },
  {
   "cell_type": "code",
   "execution_count": null,
   "metadata": {},
   "outputs": [],
   "source": [
    "def countBits(num):\n",
    "    result = [0]*(num+1)\n",
    "    \n",
    "    for i in range(1, num + 1):\n",
    "        print('i-->', i)\n",
    "        if (not(i & (i - 1))):\n",
    "        #if (~i):\n",
    "            result[i]=1\n",
    "            pow = i # max pow2 so far\n",
    "        else:\n",
    "            print('i', i, 'pow', pow) #power from previous \n",
    "            print(1 + result[i - pow])\n",
    "            result[i] = 1 + result[i - pow] # +1 for max pow2 + the prev ans w/o max pow2\n",
    "    return result\n",
    "\n",
    "# Driver Code \n",
    "if __name__ == '__main__':       \n",
    "    dec_val = 5\n",
    "    print(countBits(dec_val))      "
   ]
  },
  {
   "cell_type": "code",
   "execution_count": null,
   "metadata": {},
   "outputs": [],
   "source": [
    "def countBits(num):\n",
    "        # if x / 2 = y\n",
    "        # - the number of set bits of x and y will differ by 1\n",
    "        # - if x is even: least significant bit is 0\n",
    "        # - else: LSB is lost   \n",
    "        print(num)        \n",
    "        result = [0] * (num + 1)\n",
    "        for i in range(1, num + 1):\n",
    "\n",
    "            if i % 2 == 0:\n",
    "                #print('i', i)\n",
    "                result[i] = result[i // 2]\n",
    "                #print(result[i // 2])\n",
    "            else:\n",
    "                print('i', i)\n",
    "                result[i] = result[i // 2] + 1\n",
    "                print(result[i // 2])\n",
    "                \n",
    "                \n",
    "        return result\n",
    "\n",
    "# Driver Code \n",
    "if __name__ == '__main__':       \n",
    "    dec_val = 5\n",
    "    print(countBits(dec_val))    "
   ]
  },
  {
   "cell_type": "markdown",
   "metadata": {},
   "source": [
    "# Matrices"
   ]
  },
  {
   "cell_type": "code",
   "execution_count": 69,
   "metadata": {},
   "outputs": [
    {
     "name": "stdout",
     "output_type": "stream",
     "text": [
      "[[0, 0, 0, 0, 0, 0], [0, 1, 2, 3, 4, 5], [0, 2, 4, 6, 8, 10], [0, 3, 6, 9, 12, 15], [0, 4, 8, 12, 16, 20], [0, 5, 10, 15, 20, 25]]\n"
     ]
    }
   ],
   "source": [
    "A = [[i*j for j in range(6)] for i in range(6)]\n",
    "print(A)"
   ]
  },
  {
   "cell_type": "markdown",
   "metadata": {},
   "source": [
    "## Hour Glass:\n",
    "https://www.hackerrank.com/challenges/2d-array/problem?utm_campaign=challenge-recommendation&utm_medium=email&utm_source=7-day-campaign&h_r=next-challenge&h_v=zen\n",
    "\n",
    "In a 6x6 array, there are 16 hour glasses. \n",
    "\n",
    "```\n",
    "a b c\n",
    "  d\n",
    "e f g  \n",
    "```\n",
    "Compute the max of the sum of an hour glass in such an array."
   ]
  },
  {
   "cell_type": "code",
   "execution_count": null,
   "metadata": {},
   "outputs": [],
   "source": [
    "\"\"\"\n",
    "1 1 1 0 0 0\n",
    "0 1 0 0 0 0\n",
    "1 1 1 0 0 0\n",
    "0 0 2 4 4 0\n",
    "0 0 0 2 0 0\n",
    "0 0 1 2 4 0\n",
    "\"\"\"\n",
    "arr = [[1, 1, 1, 0, 0, 0], [0, 1, 0, 0, 0, 0], [1, 1, 1, 0, 0, 0], [0, 0, 2, 4, 4, 0], [0, 0, 0, 2, 0, 0],[0, 0, 1, 2, 4, 0]]\n",
    "\n",
    "def hourglass(arr):\n",
    "    #sum_list = []\n",
    "    max_sum = 0\n",
    "    for i in range(0,len(arr)-2):\n",
    "        for j in range(0,len(arr)-2):\n",
    "            print(arr[i][j],arr[i][j+1],arr[i][j+2])\n",
    "            print(' ', arr[i+1][j+1],' ')\n",
    "            print(arr[i+2][j],arr[i+2][j+1],arr[i+2][j+2])\n",
    "            sum_hourglass = arr[i][j]+arr[i][j+1]+arr[i][j+2]+arr[i+1][j+1]+arr[i+2][j]+arr[i+2][j+1]+arr[i+2][j+2]\n",
    "            print(sum_hourglass,'\\n')\n",
    "            #sum_list.append(arr[i][j]+arr[i][j+1]+arr[i][j+2]+arr[i+1][j+1]+arr[i+2][j]+arr[i+2][j+1]+arr[i+2][j+2])\n",
    "            if max_sum < sum_hourglass:\n",
    "                max_sum = sum_hourglass\n",
    "    #print(sum_list)\n",
    "    return max_sum\n",
    "print(hourglass(arr))"
   ]
  },
  {
   "cell_type": "markdown",
   "metadata": {},
   "source": [
    "# Dynamic Array\n",
    "\n",
    "https://www.hackerrank.com/challenges/dynamic-array/problem?utm_campaign=challenge-recommendation&utm_medium=email&utm_source=7-day-campaign&h_r=next-challenge&h_v=zen&h_r=next-challenge&h_v=zen\n",
    "\n",
    "### Solutions\n",
    "\n",
    "https://gist.github.com/SahilKadam/17474350e561812438efe8eee3a25294\n",
    "\n",
    "https://coderinme.com/dynamic-array-hackerrank-problem-solution/\n",
    "\n",
    "\n",
    "Create a list, `seqList`, of empty sequences, where each sequence is indexed from `0` to `n-1`. The elements within each of the `n` sequences also use 0-indexing. "
   ]
  },
  {
   "cell_type": "code",
   "execution_count": null,
   "metadata": {},
   "outputs": [],
   "source": [
    "n=2 \n",
    "seqList = [[] for i in range(n)]\n",
    "print(seqList)"
   ]
  },
  {
   "cell_type": "markdown",
   "metadata": {},
   "source": [
    "Create an integer,`lastAnswer`, and initialize it to 0. "
   ]
  },
  {
   "cell_type": "code",
   "execution_count": null,
   "metadata": {},
   "outputs": [],
   "source": [
    "lastAnswer = 0"
   ]
  },
  {
   "cell_type": "markdown",
   "metadata": {},
   "source": [
    "There are 2 types of queries that can be performed on the list of sequences: \n",
    "- Query1: (1, x, y)\n",
    "    -  Find the sequence, `seq`, at index `((x ^ lastAnswer)%n)` in `seqList`. \n",
    "    -  Append integer `y` to sequence `seq`.\n",
    "    \n",
    "- Query2: (2, x, y)\n",
    "    - Find the sequence, `seq`, at index in `((x ^ lastAnswer)%n)` in `seqList`. \n",
    "    - Find the value of element `y%size` in `seq` (where `size` is the size of `seq`) and assign it to `lastAnswer`.\n",
    "    - Print the new value of `lastAnswer` on a new line   \n",
    "    \n",
    "Return the result as `int[]` for each Query2.    "
   ]
  },
  {
   "cell_type": "code",
   "execution_count": 129,
   "metadata": {},
   "outputs": [
    {
     "name": "stdout",
     "output_type": "stream",
     "text": [
      "queries: [['1', '0', '5'], ['1', '1', '7'], ['1', '0', '3'], ['2', '1', '0'], ['2', '1', '1']]\n",
      "total queries: 5\n",
      "init: n, seqList, lastAnswer: 2 [[], []] 0 \n",
      "\n",
      "q,x,y,id: 1 0 5 0\n",
      "seqList: [[5], []] \n",
      "\n",
      "q,x,y,id: 1 1 7 1\n",
      "seqList: [[5], [7]] \n",
      "\n",
      "q,x,y,id: 1 0 3 0\n",
      "seqList: [[5, 3], [7]] \n",
      "\n",
      "q,x,y,id: 2 1 0 1\n",
      "seqList: [[5, 3], [7]]\n",
      "lastAnswer 7 \n",
      "\n",
      "q,x,y,id: 2 1 1 0\n",
      "seqList: [[5, 3], [7]]\n",
      "lastAnswer 3 \n",
      "\n",
      "[7, 3]\n"
     ]
    }
   ],
   "source": [
    "def dynamicArray(n, queries):\n",
    "    '''\n",
    "    The function is expected to return an INTEGER_ARRAY.\n",
    "    The function accepts following parameters:\n",
    "    1. INTEGER n\n",
    "    2. 2D_INTEGER_ARRAY queries\n",
    "    '''\n",
    "    seqList = [[] for i in range(n)]\n",
    "    lastAnswer = 0\n",
    "    result = []\n",
    "    print('init: n, seqList, lastAnswer:',n, seqList, lastAnswer, '\\n')\n",
    "    \n",
    "    for i in range(len(queries)):\n",
    "        q,x,y = int(queries[i][0]), int(queries[i][1]), int(queries[i][2])\n",
    "        index = (x ^ lastAnswer) % n\n",
    "        print('q,x,y,id:', int(queries[i][0]), int(queries[i][1]), int(queries[i][2]), index)\n",
    "        \n",
    "        if q==1:# type 1 query\n",
    "            seq = seqList[index]\n",
    "            seq.append(y)\n",
    "            print ('seqList:', seqList, '\\n') \n",
    "        else:  # type 2 query\n",
    "            seq = seqList[index]\n",
    "            size = len(seq)\n",
    "            element_index = y % size\n",
    "            value = seqList[index][element_index]\n",
    "            print ('seqList:', seqList) \n",
    "            lastAnswer = value \n",
    "            print ('lastAnswer', lastAnswer, '\\n') \n",
    "            result.append(lastAnswer)\n",
    "            \n",
    "    del seqList\n",
    "    del seq\n",
    "    return result\n",
    "    \n",
    "# Driver Code \n",
    "if __name__ == '__main__': \n",
    "    input_file = open(\"input.txt\", \"r\")\n",
    "    queries = [l.rstrip('\\n').split(\" \") for l in input_file]\n",
    "    \n",
    "    # first one is header, telling types of queries and total number of queries\n",
    "    first_line = queries.pop(0)\n",
    "    n, q = int(first_line[0]), int(first_line[1])\n",
    "    \n",
    "    # the rest of entries describes query_type, x, and y values\n",
    "    print('queries:', queries)\n",
    "    print('total queries:', len(queries))\n",
    "    \n",
    "    # execute the dynamic queries\n",
    "    result = dynamicArray(n,queries)\n",
    "    \n",
    "    print(result)"
   ]
  },
  {
   "cell_type": "markdown",
   "metadata": {},
   "source": [
    "# ListNode\n",
    "\n",
    "Its a data block and pointer to the next memory block."
   ]
  },
  {
   "cell_type": "code",
   "execution_count": 85,
   "metadata": {},
   "outputs": [
    {
     "name": "stdout",
     "output_type": "stream",
     "text": [
      "True\n"
     ]
    }
   ],
   "source": [
    "class ListNode(object):\n",
    "    \n",
    "    def __init__(self, data):\n",
    "        \"constructor to initiate this object\"\n",
    "        \n",
    "        # store data\n",
    "        self.val = data   \n",
    "        # store reference \n",
    "        self.next = None\n",
    "         \n",
    "    def has_value(self, data):\n",
    "        \"method to compare the value with the node data\"\n",
    "        \n",
    "        if self.val == data: \n",
    "            return True\n",
    "        else:             \n",
    "            return False\n",
    "     \n",
    "    \n",
    "node1 =  ListNode(15)\n",
    "print(node1.has_value(15))\n",
    "\n"
   ]
  },
  {
   "cell_type": "markdown",
   "metadata": {},
   "source": [
    "# Linked List\n",
    "\n",
    "1. InsertAtEnd — Inserts a given element at the end of the linked list\n",
    "2. InsertAtHead — Inserts a given element at the start/head of the linked list\n",
    "3. Delete — Deletes a given element from the linked list\n",
    "4. DeleteAtHead — Deletes the first element of the linked list\n",
    "5. Search — Returns the given element from a linked list\n",
    "6. isEmpty — Returns true if the linked list is empty\n"
   ]
  },
  {
   "cell_type": "code",
   "execution_count": 84,
   "metadata": {},
   "outputs": [
    {
     "name": "stdout",
     "output_type": "stream",
     "text": [
      "1 2 3 4 5 "
     ]
    }
   ],
   "source": [
    "class ListNode(object):\n",
    "    def __init__(self, data):\n",
    "        self.val = data\n",
    "        self.next = None       \n",
    "        \n",
    "def display(curr): \n",
    "    while (curr != None) : \n",
    "        print(curr.val, end = \" \") #print data at the pointer\n",
    "        curr = curr.next \n",
    "          \n",
    "def arr2Link(input_arr): \n",
    "    head = curr = ListNode(0) #instantiate\n",
    "    for i in input_arr: \n",
    "        curr.next = ListNode(i) #set the current pointers to next data\n",
    "        curr = curr.next  # set current to the next pointer\n",
    "        #curr.next, curr = Node(i), curr.next\n",
    "    #print(curr.val)# the last element of the list\n",
    "    #print (head.next)\n",
    "    return head.next #pointing to first element of the list\n",
    "  \n",
    "if __name__=='__main__':  \n",
    "    input_arr = [1, 2, 3, 4, 5]\n",
    "\n",
    "    curr = arr2Link(input_arr)\n",
    "    #print(curr)\n",
    "    display(curr) \n",
    "\n",
    "        \n"
   ]
  },
  {
   "cell_type": "markdown",
   "metadata": {},
   "source": [
    "### Given a Linked List and a number n, write a function that returns the value at the n’th node from the end of the Linked List."
   ]
  },
  {
   "cell_type": "code",
   "execution_count": 86,
   "metadata": {},
   "outputs": [
    {
     "name": "stdout",
     "output_type": "stream",
     "text": [
      "<__main__.Node object at 0x107d8ee80>\n",
      "<__main__.Node object at 0x107d8eeb8>\n",
      "<__main__.Node object at 0x107d8ef28>\n",
      "<__main__.Node object at 0x107d8ef60>\n",
      "35\n"
     ]
    }
   ],
   "source": [
    "class LinkedList: \n",
    "    def __init__(self): \n",
    "        self.head = None\n",
    "  \n",
    "    # createNode and and make linked list \n",
    "    def push(self, data): \n",
    "        new_node = Node(data) \n",
    "        new_node.next = self.head \n",
    "        self.head = new_node\n",
    "        print(self.head)\n",
    "  \n",
    "    # Function to get the nth node from  \n",
    "    # the last of a linked list  \n",
    "    def printNthFromLast(self, n): \n",
    "        temp = self.head # used temp variable \n",
    "          \n",
    "        length = 0\n",
    "        while temp is not None: \n",
    "            temp = temp.next\n",
    "            length += 1\n",
    "          \n",
    "        # print count  \n",
    "        if n > length: # if entered location is greater  \n",
    "                       # than length of linked list \n",
    "            print('Location is greater than the' +\n",
    "                         ' length of LinkedList') \n",
    "            return\n",
    "        temp = self.head \n",
    "        for i in range(0, length - n): \n",
    "            temp = temp.next\n",
    "        print(temp.val) \n",
    "  \n",
    "# Driver Code         \n",
    "llist = LinkedList()  \n",
    "llist.push(20)  \n",
    "llist.push(4)  \n",
    "llist.push(15)  \n",
    "llist.push(35) \n",
    "llist.printNthFromLast(4) "
   ]
  },
  {
   "cell_type": "markdown",
   "metadata": {},
   "source": [
    "# Stacks (LIFO: Last In First Out)\n",
    "\n",
    "\n",
    "    empty() – Returns whether the stack is empty – Time Complexity : O(1)\n",
    "    size() – Returns the size of the stack – Time Complexity : O(1)\n",
    "    top() – Returns a reference to the top most element of the stack – Time Complexity : O(1)\n",
    "    push(g) – Adds the element ‘g’ at the top of the stack – Time Complexity : O(1)\n",
    "    pop() – Deletes the top most element of the stack – Time Complexity : O(1)\n",
    "    \n",
    "    https://stackabuse.com/stacks-and-queues-in-python/\n"
   ]
  },
  {
   "cell_type": "code",
   "execution_count": null,
   "metadata": {},
   "outputs": [],
   "source": [
    "class Stack:\n",
    "    # constructor\n",
    "    def __init__(self):\n",
    "        self.stack = list()\n",
    "        self.stack.clear()\n",
    "        \n",
    "    def __getitem__(self, key):\n",
    "        return self.stack[key] \n",
    "    \n",
    "    def ____setitem__(self, key):\n",
    "        return self.stack[key] \n",
    "            \n",
    "    def push(self,data): \n",
    "        if data not in self.stack: # no duplicate (not mandatory)\n",
    "            return self.stack.append(data)\n",
    "        else:\n",
    "            return print('data already in stack')\n",
    "\n",
    "    def top(self):\n",
    "        if not self.isEmpty():\n",
    "            return self.stack[self.size()-1]\n",
    "        else: print('can\\'t top from a empty stack')\n",
    "            \n",
    "    def pop(self):\n",
    "        if not self.isEmpty():\n",
    "            return self.stack.pop()\n",
    "        else: print('can\\'t pop from a empty stack')\n",
    "\n",
    "    def size(self):\n",
    "        return len(self.stack)\n",
    "    \n",
    "    def isEmpty(self):\n",
    "        return self.size() == 0\n",
    "\n",
    "# Driver Code\n",
    "if __name__ == \"__main__\":\n",
    "    my_stack = Stack()\n",
    "    for i in range(0, 5):\n",
    "        #print(i)\n",
    "        my_stack.push(i)\n",
    "    print(f\"Stack: {my_stack}\")\n",
    "    print(my_stack.size())\n",
    "    print(my_stack.pop())\n",
    "    print(my_stack.size())\n",
    "    print(my_stack.top())\n",
    "    print(my_stack.isEmpty())\n",
    "    print(my_stack.pop())\n",
    "    print(my_stack.size())#"
   ]
  },
  {
   "cell_type": "markdown",
   "metadata": {},
   "source": [
    "## Example: Given a stack of integers, sort it in descending order using another temporary stack.\n",
    "\n",
    "https://www.geeksforgeeks.org/sort-stack-using-temporary-stack/\n",
    "\n",
    "Input : [34, 3, 31, 98, 92, 23]\n",
    "\n",
    "Output : [3, 23, 31, 34, 92, 98]\n",
    "\n",
    "```\n",
    "We follow this algorithm.\n",
    "\n",
    "    Create a temporary stack say stack_out.\n",
    "    While input stack is NOT empty do this:\n",
    "        Pop an element from input stack call it tmp\n",
    "        while temporary stack is NOT empty and top of temporary stack is greater than temp,\n",
    "        pop from temporary stack and push it to the input stack\n",
    "        push tmp in temporary stack\n",
    "    The sorted numbers are in stack_out\n",
    "\n",
    "\n",
    "\n",
    "input: [34, 3, 31, 98, 92, 23]\n",
    "\n",
    "Element taken out: 23\n",
    "input: [34, 3, 31, 98, 92]\n",
    "out_stack: [23]\n",
    "\n",
    "Element taken out: 92\n",
    "input: [34, 3, 31, 98]\n",
    "out_stack: [23, 92]\n",
    "\n",
    "Element taken out: 98\n",
    "input: [34, 3, 31]\n",
    "out_stack: [23, 92, 98]\n",
    "```"
   ]
  },
  {
   "cell_type": "code",
   "execution_count": null,
   "metadata": {},
   "outputs": [],
   "source": [
    "# Driver Code\n",
    "if __name__ == \"__main__\":\n",
    "    stack_in = Stack()\n",
    "    stack_in.push(34) \n",
    "    stack_in.push(3) \n",
    "    #stack_in.push(31) \n",
    "    #stack_in.push(98) \n",
    "    #stack_in.push(92) \n",
    "    #stack_in.push(23)\n",
    "    \n",
    "    \n",
    "    \n",
    "    #for i in range(stack_in.size()-1, -1, -1): \n",
    "    #    print(stack_in[i]) \n",
    "    print('original ==>')     \n",
    "    for i in range(stack_in.size()): \n",
    "        print(i, stack_in[i])\n",
    "    \n",
    "    def sortStack(stack): \n",
    "        stack_out = Stack()\n",
    "        while(stack_in.isEmpty() == False): \n",
    "            \n",
    "            # pop out the first element \n",
    "            tmp = stack_in.top()\n",
    "            #print('tmp', tmp)\n",
    "            stack_in.pop()\n",
    "        \n",
    "        \n",
    "            # while temporary out stack is not empty and top of stack is greater than tmp \n",
    "            while(stack_out.isEmpty() == False and stack_out.top() > tmp): \n",
    "                \n",
    "                # pop from out stack and push it to the input stack \n",
    "                print('out stack top', stack_out.top())\n",
    "                stack_in.push(stack_out.top())\n",
    "                stack_out.pop()\n",
    "  \n",
    "            # push temp in tempory of stack \n",
    "            stack_out.push(tmp)\n",
    "        return stack_out   \n",
    "            \n",
    "    sorted_stack = sortStack(stack_in)\n",
    "    print('sorted ==>')\n",
    "    for i in range(sorted_stack.size()): \n",
    "        print(i, sorted_stack[i]) \n",
    "        \n",
    "    print('original ==>')     \n",
    "    for i in range(stack_in.size()): \n",
    "        print(i, stack_in[i])"
   ]
  },
  {
   "cell_type": "markdown",
   "metadata": {},
   "source": [
    "# Queue (FIFO: First In First Out)\n",
    "\n",
    "1. enqueue() - adds an element to the end of the queue:\n",
    "2. dequeue() - removes the element at the beginning of the queue:\n",
    "3. isEmpty() - Returns true if the queue is empty\n",
    "4. top() - Returns the first element of the queue"
   ]
  },
  {
   "cell_type": "code",
   "execution_count": null,
   "metadata": {},
   "outputs": [],
   "source": [
    "class Queue:    \n",
    "    # constructor\n",
    "    def __init__(self):\n",
    "        self.queue = list()\n",
    "        self.queue.clear()\n",
    "        \n",
    "    def __getitem__(self, key):\n",
    "        return self.queue[key]      \n",
    "        \n",
    "    def isEmpty(self):\n",
    "        return len(self.queue) == 0\n",
    "    \n",
    "    def top(self):\n",
    "        return self.queue[len(self.queue)-1]\n",
    "    \n",
    "    def size(self):\n",
    "        return len(self.queue)\n",
    "    \n",
    "    def enqueue(self, data):\n",
    "        if data not in self.queue:\n",
    "            return self.queue.insert(0,data)\n",
    "        else: print('data already in stack')\n",
    "            \n",
    "    def dequeue(self): \n",
    "        if len(self.queue)>0:\n",
    "            return self.queue.pop()\n",
    "        else: return (\"Queue Empty!\")\n",
    " \n",
    "# Driver Code\n",
    "if __name__ == \"__main__\":\n",
    "    my_queue = Queue()\n",
    "    my_queue.enqueue(34)\n",
    "    my_queue.enqueue(3)\n",
    "    \n",
    "    \n",
    "    for i in range(my_queue.size()): \n",
    "        print(i, my_queue[i])\n",
    "    "
   ]
  },
  {
   "cell_type": "markdown",
   "metadata": {},
   "source": [
    "# Tree"
   ]
  },
  {
   "cell_type": "code",
   "execution_count": 88,
   "metadata": {},
   "outputs": [],
   "source": [
    "class Node:\n",
    "    def __init__(self, data):\n",
    "        self.left = None\n",
    "        self.right = None\n",
    "        self.val = data\n"
   ]
  },
  {
   "attachments": {
    "image.png": {
     "image/png": "[encoded data removed]"
    }
   },
   "cell_type": "markdown",
   "metadata": {},
   "source": [
    "### Given a binary tree return its depth\n",
    "\n",
    "![image.png](attachment:image.png)"
   ]
  },
  {
   "cell_type": "code",
   "execution_count": 100,
   "metadata": {},
   "outputs": [
    {
     "name": "stdout",
     "output_type": "stream",
     "text": [
      "3\n"
     ]
    }
   ],
   "source": [
    "class Node:\n",
    "    def __init__(self, data):\n",
    "        self.left = None\n",
    "        self.right = None\n",
    "        self.val = data\n",
    "\n",
    "def maxDepth(node): \n",
    "    if node is None: \n",
    "        return 0    \n",
    "    else :  \n",
    "        # Compute the depth of each subtree recursively\n",
    "        lDepth = maxDepth(node.left) + 1\n",
    "        rDepth = maxDepth(node.right) + 1\n",
    "  \n",
    "        # Use the larger one \n",
    "        return max(lDepth, rDepth)\n",
    "        \n",
    "        \n",
    "if __name__=='__main__':  \n",
    "    root = Node(1) \n",
    "    root.left = Node(2) \n",
    "    root.right = Node(3) \n",
    "    root.left.left = Node(4) \n",
    "    root.left.right = Node(5) \n",
    "    print (maxDepth(root) )\n",
    "        "
   ]
  },
  {
   "attachments": {
    "image.png": {
     "image/png": "[encoded data removed]"
    }
   },
   "cell_type": "markdown",
   "metadata": {},
   "source": [
    "## Invert Binary Tree \n",
    "\n",
    "![image.png](attachment:image.png)"
   ]
  },
  {
   "cell_type": "code",
   "execution_count": 94,
   "metadata": {},
   "outputs": [
    {
     "name": "stdout",
     "output_type": "stream",
     "text": [
      "1 3 7 6 2 5 4 "
     ]
    }
   ],
   "source": [
    "class Node:\n",
    "    def __init__(self, data):\n",
    "        self.left = None\n",
    "        self.right = None\n",
    "        self.data = data\n",
    "        \n",
    "# Function to perform preorder traversal of the binary tree\n",
    "def printOrder(root): \n",
    "    if root is None: \n",
    "        return \n",
    "    print(root.data, end=' ')\n",
    "    printOrder(root.left)\n",
    "    printOrder(root.right)\n",
    "    \n",
    "def swap(root):\n",
    "    tmp = root.left\n",
    "    root.left = root.right\n",
    "    root.right = tmp\n",
    "    \n",
    "# Function to invert given binary Tree using preorder traversal\n",
    "def invertBinaryTree(root): \n",
    "    \n",
    "    # base case: if tree is empty\n",
    "    if root is None: \n",
    "        return\n",
    "    else:\n",
    "        # swap left subtree with right subtree\n",
    "        swap(root)\n",
    "        \n",
    "        # invert left subtree\n",
    "        invertBinaryTree(root.left)\n",
    " \n",
    "        # invert right subtree\n",
    "        invertBinaryTree(root.right)\n",
    "\n",
    "if __name__=='__main__':  \n",
    "    root = Node(1) \n",
    "    root.left = Node(2) \n",
    "    root.right = Node(3) \n",
    "    root.left.left = Node(4) \n",
    "    root.left.right = Node(5) \n",
    "    root.right.left = Node(6) \n",
    "    root.right.right = Node(7) \n",
    "    \n",
    "    invertBinaryTree(root)\n",
    "    printOrder(root)\n",
    "    #print (maxDepth(root) )\n",
    "                "
   ]
  },
  {
   "cell_type": "markdown",
   "metadata": {},
   "source": [
    "### Identical Trees:"
   ]
  },
  {
   "cell_type": "code",
   "execution_count": 99,
   "metadata": {},
   "outputs": [
    {
     "name": "stdout",
     "output_type": "stream",
     "text": [
      "Given Binary Trees are not identical\n"
     ]
    }
   ],
   "source": [
    "# Data structure to store a Binary Tree node\n",
    "class Node:\n",
    "    def __init__(self, data):\n",
    "        self.data = data\n",
    "        self.left = None\n",
    "        self.right = None\n",
    " \n",
    " \n",
    "# Recursive function to check if two given binary trees are identical or not\n",
    "def isIdentical(x, y):\n",
    " \n",
    "    # if both trees are empty, return 0\n",
    "    if x is None and y is None:\n",
    "        return 0\n",
    "    else: \n",
    "        # if both trees are non-empty and value of their root node matches,\n",
    "        # recur for their left and right sub-tree\n",
    "        return (x and y) and (x.data == y.data) and \\\n",
    "               isIdentical(x.left, y.left) and isIdentical(x.right, y.right)\n",
    " \n",
    " \n",
    "if __name__ == '__main__':\n",
    " \n",
    "    # construct first tree\n",
    "    x = Node(15)\n",
    "    x.left = Node(10)\n",
    "    x.right = Node(20)\n",
    "    x.left.left = Node(8)\n",
    "    x.left.right = Node(12)\n",
    "    x.right.left = Node(16)\n",
    "    x.right.right = Node(25)\n",
    " \n",
    "    # construct second tree\n",
    "    y = Node(15)\n",
    "    y.left = Node(10)\n",
    "    y.right = Node(20)\n",
    "    y.left.left = Node(8)\n",
    "    y.left.right = Node(12)\n",
    "    y.right.left = Node(16)\n",
    "    y.right.right = Node(25)\n",
    " \n",
    "    if isIdentical(x, y):\n",
    "        print(\"Given Binary Trees are identical\")\n",
    "    else:\n",
    "        print(\"Given Binary Trees are not identical\")\n",
    " "
   ]
  },
  {
   "cell_type": "code",
   "execution_count": 133,
   "metadata": {},
   "outputs": [
    {
     "name": "stdout",
     "output_type": "stream",
     "text": [
      "A B C D E F "
     ]
    }
   ],
   "source": [
    "graph = {\n",
    "  'A' : ['B','C'],\n",
    "  'B' : ['D', 'E'],\n",
    "  'C' : ['F'],\n",
    "  'D' : [],\n",
    "  'E' : ['F'],\n",
    "  'F' : []\n",
    "}\n",
    "\n",
    "visited = []   #List to keep track of visited nodes.\n",
    "queue = []     #Initialize a queue\n",
    "\n",
    "def bfs(visited, graph, node):\n",
    "    visited.append(node)\n",
    "    queue.append(node)\n",
    "    \n",
    "    while queue:\n",
    "        s = queue.pop(0) \n",
    "        print (s, end = \" \") \n",
    "\n",
    "        for neighbour in graph[s]:\n",
    "              if neighbour not in visited:\n",
    "                visited.append(neighbour)\n",
    "                queue.append(neighbour)           \n",
    "# Driver Code\n",
    "bfs(visited, graph, 'A')\n",
    "\n",
    "#Output: A B C D E F \n"
   ]
  },
  {
   "cell_type": "markdown",
   "metadata": {},
   "source": [
    "# Finding sum of digits of a number until sum becomes single digit\n",
    "```\n",
    "If n < 10    \n",
    "    digSum(n) = n\n",
    "Else         \n",
    "    digSum(n) = Sum(digSum(n))\n",
    "    \n",
    "```    "
   ]
  },
  {
   "cell_type": "code",
   "execution_count": 24,
   "metadata": {},
   "outputs": [
    {
     "name": "stdout",
     "output_type": "stream",
     "text": [
      "123\n"
     ]
    }
   ],
   "source": [
    "n = 1234\n",
    "print(n//10)"
   ]
  },
  {
   "cell_type": "code",
   "execution_count": 28,
   "metadata": {},
   "outputs": [
    {
     "name": "stdout",
     "output_type": "stream",
     "text": [
      "[10, 6, 3]\n",
      "25.2 ns ± 0.74 ns per loop (mean ± std. dev. of 7 runs, 10000000 loops each)\n"
     ]
    }
   ],
   "source": [
    "#Finding sum of digits of a number until sum becomes single digit\n",
    "def sumUntilSingle(n):    \n",
    "    string_list = list(str(n))\n",
    "    int_list = list(map(int, string_list))\n",
    "    \n",
    "    # [ 1, 2, 3, 4]\n",
    "    sum_list  = []\n",
    "    while n//10 != 0:\n",
    "        \n",
    "        sum_digit = sum(int_list)\n",
    "        sum_list.append(sum_digit) \n",
    "        int_list.pop()\n",
    "        n = n//10\n",
    "        \n",
    "    return (sum_list)\n",
    "\n",
    "if __name__ == '__main__':\n",
    "    n = 1234\n",
    "    out = sumUntilSingle(n)\n",
    "    print(sumUntilSingle(n))\n",
    "    %timeit out  \n"
   ]
  },
  {
   "cell_type": "code",
   "execution_count": 26,
   "metadata": {},
   "outputs": [
    {
     "name": "stdout",
     "output_type": "stream",
     "text": [
      "10\n",
      "1\n",
      "25.8 ns ± 0.509 ns per loop (mean ± std. dev. of 7 runs, 10000000 loops each)\n",
      "10\n",
      "1\n",
      "1\n"
     ]
    }
   ],
   "source": [
    "def sumDigits(n) -> int:\n",
    "    \n",
    "    string_list = list(str(n))\n",
    "    int_list  = list(map(int, string_list))\n",
    "    digSum = 0 \n",
    "    \n",
    "    if n < 10:\n",
    "        return n\n",
    "    else:\n",
    "        digSum = sum(int_list)\n",
    "        print (digSum)\n",
    "    return  sumDigits(digSum) \n",
    "    \n",
    "n = 1234\n",
    "out = sumDigits(n)\n",
    "%timeit out\n",
    "print(sumDigits(n)) "
   ]
  },
  {
   "cell_type": "code",
   "execution_count": null,
   "metadata": {},
   "outputs": [],
   "source": [
    "def digSum(n): \n",
    "    if (n == 0): return 0\n",
    "    if (n % 9 == 0):  return 9 \n",
    "    else: return n % 9\n",
    "    \n",
    "#Driver method \n",
    "n = 1234 # 1 + 2 + 3 + 4 = 10; 10 => 1 + 0 = 0\n",
    "out = sumDigits(n)\n",
    "%timeit out\n",
    "print (digSum(n)) "
   ]
  },
  {
   "cell_type": "code",
   "execution_count": null,
   "metadata": {},
   "outputs": [],
   "source": []
  },
  {
   "cell_type": "markdown",
   "metadata": {},
   "source": [
    "# class inheritance"
   ]
  },
  {
   "cell_type": "code",
   "execution_count": null,
   "metadata": {},
   "outputs": [],
   "source": [
    "class Person:\n",
    "    def __init__(self, fname, lname):\n",
    "        self.firstname = fname\n",
    "        self.lastname = lname\n",
    "\n",
    "    def printname(self):\n",
    "        print(self.firstname, self.lastname)\n",
    "\n",
    "class Student(Person):\n",
    "      pass\n",
    "\n",
    "x = Student(\"Mike\", \"Olsen\")\n",
    "x.printname()"
   ]
  },
  {
   "cell_type": "markdown",
   "metadata": {},
   "source": [
    "# over-riding the inheritance"
   ]
  },
  {
   "cell_type": "code",
   "execution_count": null,
   "metadata": {},
   "outputs": [],
   "source": [
    "class Student(Person):\n",
    "    def __init__(self, fname, lname): # overriding the class Person\n",
    "        #Person.__init__(self, fname, lname) # to keep the inheritance, add a call to the parent's __init__() function\n",
    "        super().__init__(fname, lname) # inherit all the methods from parent\n",
    "x = Student(\"Mike\", \"Olsen\")\n",
    "x.printname()        "
   ]
  },
  {
   "cell_type": "code",
   "execution_count": null,
   "metadata": {},
   "outputs": [],
   "source": [
    "class Student(Person):\n",
    "    def __init__(self, fname, lname, year):\n",
    "        super().__init__(fname, lname)\n",
    "        self.graduationyear = year # add another method to child class\n",
    "\n",
    "x = Student(\"Mike\", \"Olsen\", 2019) \n",
    "x.printname()\n",
    "print(x.graduationyear)"
   ]
  },
  {
   "cell_type": "markdown",
   "metadata": {},
   "source": [
    "# ===== Closure ======\n",
    "\n",
    "A ``first class object`` is an entity that can be dynamically created, destroyed, passed to a function, returned as a value, and have all the rights as other variables in the programming language have.\n",
    "\n",
    "## Example 1:"
   ]
  },
  {
   "cell_type": "code",
   "execution_count": null,
   "metadata": {},
   "outputs": [],
   "source": [
    "def cons(a, b):\n",
    "    def pair(f):\n",
    "        return f(a, b)\n",
    "    return pair\n",
    "\n",
    "def add(first, second):\n",
    "     return first + second\n",
    "    \n",
    "def car(pair):\n",
    "    def return_first(a, b):\n",
    "        return a\n",
    "    return pair(return_first)\n",
    "\n",
    "def cdr(pair):\n",
    "    def return_last(a, b):\n",
    "        return b\n",
    "    return pair(return_last)\n",
    "\n",
    "\n",
    "\n",
    "cons(42, 81)"
   ]
  },
  {
   "cell_type": "markdown",
   "metadata": {},
   "source": [
    "Call the outer function"
   ]
  },
  {
   "cell_type": "code",
   "execution_count": null,
   "metadata": {},
   "outputs": [],
   "source": [
    "pair_42_81 = cons(42, 81) \n",
    "print(pair_42_81)"
   ]
  },
  {
   "cell_type": "markdown",
   "metadata": {},
   "source": [
    "Pass a function to inner function, that calls the function. The outer function will return the returned value of the function."
   ]
  },
  {
   "cell_type": "code",
   "execution_count": null,
   "metadata": {},
   "outputs": [],
   "source": [
    "print(pair_42_81(add))\n",
    "print(car(pair_42_81))\n",
    "print(cdr(pair_42_81))"
   ]
  },
  {
   "cell_type": "markdown",
   "metadata": {},
   "source": [
    "## Example 2"
   ]
  },
  {
   "cell_type": "code",
   "execution_count": null,
   "metadata": {},
   "outputs": [],
   "source": [
    "def outer(x):\n",
    "    def inner():\n",
    "        print(f'x in outer function: {x}')       \n",
    "    return inner\n",
    "\n",
    "outer_f = outer(1)\n",
    "print(outer_f)\n",
    "print(outer_f())"
   ]
  },
  {
   "cell_type": "markdown",
   "metadata": {},
   "source": [
    "### Accessing global variable in a closure"
   ]
  },
  {
   "cell_type": "code",
   "execution_count": null,
   "metadata": {},
   "outputs": [],
   "source": [
    "def outer(x):\n",
    "    def inner():\n",
    "        nonlocal x # otherwise an error will occur\n",
    "        print(f'x in outer function (before modifying): {x}')\n",
    "        x += 1\n",
    "        print(f'x in outer function (after modifying): {x}')\n",
    "    return inner\n",
    "\n",
    "outer_f = outer(1)\n",
    "print(outer_f)\n",
    "print(outer_f())"
   ]
  },
  {
   "cell_type": "markdown",
   "metadata": {},
   "source": [
    "# Fibonacci Series\n",
    "A Fibonacci sequence is a series of numbers that every number is the sum of the two numbers before it. The first two numbers, $X_0$ and $X_1$, are special. They are 0 and 1 respectively.\n",
    "\n",
    "## Recursive"
   ]
  },
  {
   "cell_type": "code",
   "execution_count": 54,
   "metadata": {},
   "outputs": [
    {
     "name": "stdout",
     "output_type": "stream",
     "text": [
      "21\n",
      "24.9 ns ± 1.56 ns per loop (mean ± std. dev. of 7 runs, 10000000 loops each)\n"
     ]
    }
   ],
   "source": [
    "def fibonacci(n):\n",
    "    if n == 0: return 0\n",
    "    elif n == 1: return 1\n",
    "    else:\n",
    "        return fibonacci(n-1)+fibonacci(n-2)\n",
    "        \n",
    "# Driver code\n",
    "if __name__ == \"__main__\": \n",
    "    fib = fibonacci(8)\n",
    "    print (fib)\n",
    "    %timeit fib"
   ]
  },
  {
   "cell_type": "markdown",
   "metadata": {},
   "source": [
    "## Closure"
   ]
  },
  {
   "cell_type": "code",
   "execution_count": 40,
   "metadata": {},
   "outputs": [
    {
     "name": "stdout",
     "output_type": "stream",
     "text": [
      "6765\n",
      "25.9 ns ± 0.767 ns per loop (mean ± std. dev. of 7 runs, 10000000 loops each)\n"
     ]
    }
   ],
   "source": [
    "def fibonacci():\n",
    "    x0 = 0\n",
    "    x1 = 1\n",
    "    def get_next_number():\n",
    "        nonlocal x0, x1\n",
    "        x0, x1 = x1, x0+x1\n",
    "        return x1\n",
    "    return get_next_number\n",
    "\n",
    "def fib_closure(n):\n",
    "    f = fibonacci()\n",
    "    for i in range(2, n+1):\n",
    "        fib = f()\n",
    "    return fib\n",
    "\n",
    "# Driver code\n",
    "if __name__ == \"__main__\":\n",
    "    fib=fib_closure(20)\n",
    "    print(fib) \n",
    "    %timeit fib"
   ]
  },
  {
   "cell_type": "markdown",
   "metadata": {},
   "source": [
    "## Memoized"
   ]
  },
  {
   "cell_type": "code",
   "execution_count": 80,
   "metadata": {},
   "outputs": [
    {
     "name": "stdout",
     "output_type": "stream",
     "text": [
      "6765\n",
      "25.4 ns ± 0.979 ns per loop (mean ± std. dev. of 7 runs, 10000000 loops each)\n"
     ]
    }
   ],
   "source": [
    "# f = 0, 1, 2, 3, 5, 8, 13, 21, ..\n",
    "def fib_2(n, memo):\n",
    "    \n",
    "    if memo[n] is not None:\n",
    "        return memo[n]\n",
    "    \n",
    "    if n == 0 or n == 1:\n",
    "        result = n\n",
    "    else:\n",
    "        result = fib_2(n-1, memo) + fib_2(n-2, memo)\n",
    "        #print(result)  \n",
    "      \n",
    "    memo[n] = result\n",
    "    return result\n",
    "\n",
    "def fib_memo(n):\n",
    "    memo = [None] * (n + 1)\n",
    "    return fib_2(n, memo)\n",
    "\n",
    "# Driver code\n",
    "if __name__ == \"__main__\":\n",
    "    fib = fib_memo(20)\n",
    "    print(fib) \n",
    "    %timeit fib"
   ]
  },
  {
   "cell_type": "markdown",
   "metadata": {},
   "source": [
    "## Tabulized"
   ]
  },
  {
   "cell_type": "code",
   "execution_count": 79,
   "metadata": {},
   "outputs": [
    {
     "name": "stdout",
     "output_type": "stream",
     "text": [
      "6765\n",
      "27.9 ns ± 0.778 ns per loop (mean ± std. dev. of 7 runs, 10000000 loops each)\n"
     ]
    }
   ],
   "source": [
    "def fib_bottom_up(n):\n",
    "    if n == 0 or n == 1:\n",
    "        return n\n",
    "    bottom_up = [None] * (n+1)\n",
    "    bottom_up[0] = 0\n",
    "    bottom_up[1] = 1\n",
    "    for i in range(2, n+1):\n",
    "        bottom_up[i] = bottom_up[i-1] + bottom_up[i-2]\n",
    "    return bottom_up[n] # last element in the series\n",
    "\n",
    "# Driver code\n",
    "if __name__ == \"__main__\":\n",
    "    fib = fib_bottom_up(20)\n",
    "    print(fib) \n",
    "    %timeit fib"
   ]
  },
  {
   "cell_type": "markdown",
   "metadata": {},
   "source": [
    "## Example 3: Comparison With Class for parsing a dictionary "
   ]
  },
  {
   "cell_type": "code",
   "execution_count": null,
   "metadata": {},
   "outputs": [],
   "source": [
    "students = {\n",
    "    'Alice': 98,\n",
    "    'Bob': 67,\n",
    "    'Chris': 85,\n",
    "    'David': 75,\n",
    "    'Ella': 54,\n",
    "    'Fiona': 35,\n",
    "    'Grace': 69\n",
    "}\n",
    "\n",
    "\n",
    "class classify_students():\n",
    "    def __init__(self, lower_bound, upper_bound):\n",
    "        self.lo = lower_bound\n",
    "        self.up = upper_bound\n",
    "        \n",
    "    def get_grade_class(self, exam_dict):\n",
    "        return {k:v for (k,v) in exam_dict.items() if self.lo <= v < self.up}\n",
    "\n",
    "# Driver code\n",
    "if __name__ == \"__main__\":    \n",
    "    grade_A = classify_students(80,100)\n",
    "    grade_B = classify_students(70,80)\n",
    "    grade_C = classify_students(50, 70)\n",
    "    grade_D = classify_students(0, 50)\n",
    "\n",
    "    print(grade_A.get_grade_class(students))\n",
    "    print(grade_B.get_grade_class(students))\n",
    "    print(grade_C.get_grade_class(students))\n",
    "    print(grade_D.get_grade_class(students))\n",
    "\n",
    "    %timeit grade_C"
   ]
  },
  {
   "cell_type": "code",
   "execution_count": null,
   "metadata": {},
   "outputs": [],
   "source": [
    "students = {\n",
    "    'Alice': 98,\n",
    "    'Bob': 67,\n",
    "    'Chris': 85,\n",
    "    'David': 75,\n",
    "    'Ella': 54,\n",
    "    'Fiona': 35,\n",
    "    'Grace': 69\n",
    "}\n",
    "\n",
    "def classify_students(lower_bound, upper_bound):\n",
    "    def get_grade_class(exam_dict):\n",
    "        return {k:v for (k,v) in exam_dict.items() if lower_bound <= v < upper_bound}\n",
    "    return get_grade_class\n",
    "\n",
    "# Driver code\n",
    "if __name__ == \"__main__\":\n",
    "    grade_A = classify_students(80, 100)\n",
    "    grade_B = classify_students(70, 80)\n",
    "    grade_C = classify_students(50, 70)\n",
    "    grade_D = classify_students(0, 50)\n",
    "\n",
    "    print(grade_A(students))\n",
    "    print(grade_B(students))\n",
    "    print(grade_C(students))\n",
    "    print(grade_D(students))\n",
    "\n",
    "    %timeit grade_C"
   ]
  },
  {
   "cell_type": "markdown",
   "metadata": {},
   "source": [
    "# Circular Buffer\n",
    "\n",
    "## To do: https://hackhenry.com/daily-coding-problem-16/\n",
    "\n",
    "You run an e-commerce website and want to record the last `N` order ids in a log. Implement a data structure to accomplish this, with the following API:\n",
    "```\n",
    "    record(order_id): adds the order_id to the log\n",
    "    get_last(i): gets the ith last element from the log. i is guaranteed to be smaller than or equal to N.\n",
    "```\n",
    "\n",
    "A circular buffer takes advantage of the % Modulus operator to loop back around to the start of an array once you reach the end. This means we can have a pointer to insert the next element and then calculate the last ith element index and for getting the last ith element. Therefore maintaining our O(1) time complexity"
   ]
  },
  {
   "cell_type": "code",
   "execution_count": null,
   "metadata": {},
   "outputs": [],
   "source": [
    "class get_record(object):\n",
    "    \n",
    "    def __init__(self, N):\n",
    "        self.N = N\n",
    "        self.data = ['None' for i in range(0,N)]\n",
    "        self.front, self.rear ='None', 'None'#0, -1\n",
    "        \n",
    "    def record(self, order_id): \n",
    "        \n",
    "        if(self.front is None): # if queue is empty       \n",
    "            self.front, self.rear = 0, -1\n",
    "        elif((self.rear+1)%self.N == self.front):\n",
    "            self.front = (self.front+1)%self.N\n",
    "\n",
    "        self.rear = (self.rear+1)%self.N\n",
    "        \n",
    "        self.data[self.rear] = order_id\n",
    "        #self.rare =+ (self.rare % self.N)    \n",
    "        \n",
    "    def get_last(self, i):\n",
    "        #print(i, self.rare)\n",
    "        if (i <= self.rare):\n",
    "            return self.data[self.rare - i];\n",
    "        else: \n",
    "            return self.data[self.rare + (self.data - i)]\n",
    "        \n",
    "queue = get_record(3)\n",
    "queue.record(1)\n",
    "queue.record(2)\n",
    "queue.record(3)\n",
    "queue.record(4)\n",
    "queue.record(5)\n",
    "queue.record(6)\n",
    "print (queue.get_last(2))\n",
    "#print queue.get_last(1)        \n",
    "    "
   ]
  },
  {
   "cell_type": "code",
   "execution_count": null,
   "metadata": {},
   "outputs": [],
   "source": []
  }
 ],
 "metadata": {
  "kernelspec": {
   "display_name": "Python 3",
   "language": "python",
   "name": "python3"
  },
  "language_info": {
   "codemirror_mode": {
    "name": "ipython",
    "version": 3
   },
   "file_extension": ".py",
   "mimetype": "text/x-python",
   "name": "python",
   "nbconvert_exporter": "python",
   "pygments_lexer": "ipython3",
   "version": "3.6.8"
  }
 },
 "nbformat": 4,
 "nbformat_minor": 2
}
