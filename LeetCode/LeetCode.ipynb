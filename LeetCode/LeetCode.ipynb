{
 "cells": [
  {
   "cell_type": "markdown",
   "metadata": {},
   "source": [
    "## 13. Roman to Integer\n",
    "\n",
    "https://leetcode.com/problems/roman-to-integer/\n",
    "\n",
    "Roman numerals are represented by seven different symbols: I, V, X, L, C, D and M.\n",
    "```\n",
    "Symbol       Value\n",
    "I             1\n",
    "V             5\n",
    "X             10\n",
    "L             50\n",
    "C             100\n",
    "D             500\n",
    "M             1000\n",
    "```\n",
    "\n",
    "For example, two is written as `II` in Roman numeral, just two one's added together. Twelve is written as, `XII`, which is simply `X + II`. The number twenty seven is written as `XXVII`, which is `XX + V + II`.\n",
    "\n",
    "Roman numerals are usually written largest to smallest from left to right. However, the numeral for four is not `IIII`. Instead, the number four is written as `IV`. Because the one is before the five we subtract it making four. The same principle applies to the number nine, which is written as `IX`. There are six instances where subtraction is used:\n",
    "\n",
    "*    `I` can be placed before `V` (5) and `X` (10) to make 4 and 9. \n",
    "*    `X` can be placed before `L` (50) and `C` (100) to make 40 and 90. \n",
    "*    `C` can be placed before `D` (500) and `M` (1000) to make 400 and 900.\n",
    "\n",
    "Given a roman numeral, convert it to an integer. Input is guaranteed to be within the range from 1 to 3999.\n",
    "\n",
    "```\n",
    "Input: \"III\"\n",
    "Output: 3\n",
    "\n",
    "Input: \"IV\"\n",
    "Output: 4\n",
    "\n",
    "Input: \"IX\"\n",
    "Output: 9\n",
    "\n",
    "Input: \"LVIII\"\n",
    "Output: 58\n",
    "Explanation: L = 50, V= 5, III = 3.\n",
    "\n",
    "Input: \"MCMXCIV\"\n",
    "Output: 1994\n",
    "Explanation: M = 1000, CM = 900, XC = 90 and IV = 4.\n",
    "\n",
    "```\n"
   ]
  },
  {
   "cell_type": "code",
   "execution_count": 18,
   "metadata": {},
   "outputs": [
    {
     "name": "stdout",
     "output_type": "stream",
     "text": [
      "['M', 'C', 'M', 'X', 'C', 'I', 'V']\n",
      "0 , 1000\n",
      "1 , 1900\n",
      "3 , 1990\n",
      "5 , 1994\n",
      "1994\n"
     ]
    }
   ],
   "source": [
    "class Solution13:\n",
    "    \n",
    "    def __init__(self,s=''):\n",
    "        self.s = s\n",
    "        \n",
    "    def romanToInt(self, s):\n",
    "        \"\"\"\n",
    "        :type s: str\n",
    "        :rtype: int\n",
    "        \"\"\"\n",
    "        s = list(s)\n",
    "        print(s)\n",
    "        roman_int_dict = {\n",
    "                'I':1,\n",
    "                'V':5,\n",
    "                'X':10,\n",
    "                'L':50,\n",
    "                'C':100,\n",
    "                'D':500,\n",
    "                'M':1000           \n",
    "            }\n",
    "        \n",
    "        number = 0\n",
    "        i = 0\n",
    "        \n",
    "        while i < len(s):\n",
    "        \n",
    "            if i < len(s)-1:\n",
    "                if s[i]=='I' and s[i+1] in ['V','X'] or \\\n",
    "                   s[i]=='X' and s[i+1] in ['L','C'] or \\\n",
    "                   s[i]=='C' and s[i+1] in ['D','M']:\n",
    "                    \n",
    "                    number += roman_int_dict[s[i+1]] - roman_int_dict[s[i]]\n",
    "                    print(i, ',', number)\n",
    "                    i += 2 #hop by 2 roman numbers\n",
    "                    continue\n",
    "\n",
    "            print(i, ',', roman_int_dict[s[i]])\n",
    "            number += roman_int_dict[s[i]]\n",
    "            i += 1\n",
    "            \n",
    "        return number   \n",
    "            \n",
    " \n",
    "p13 = Solution13()\n",
    "max_score = p13.romanToInt('MCMXCIV')\n",
    "\n",
    "print(max_score)"
   ]
  },
  {
   "cell_type": "markdown",
   "metadata": {},
   "source": [
    "## 1422. Maximum Score After Splitting a String\n",
    "\n",
    "https://leetcode.com/problems/maximum-score-after-splitting-a-string/\n",
    "\n",
    "Given a string s of zeros and ones, return the maximum score after splitting the string into two non-empty substrings (i.e. left substring and right substring).\n",
    "\n",
    "The score after splitting a string is the number of zeros in the left substring plus the number of ones in the right substring.\n",
    "```\n",
    "Input: s = \"011101\"\n",
    "Output: 5 \n",
    "```"
   ]
  },
  {
   "cell_type": "code",
   "execution_count": 19,
   "metadata": {},
   "outputs": [
    {
     "name": "stdout",
     "output_type": "stream",
     "text": [
      "['0'] ['1', '1', '1', '0', '1']\n",
      "['0', '1'] ['1', '1', '0', '1']\n",
      "['0', '1', '1'] ['1', '0', '1']\n",
      "['0', '1', '1', '1'] ['0', '1']\n",
      "['0', '1', '1', '1', '0'] ['1']\n",
      "5\n"
     ]
    }
   ],
   "source": [
    "class Solution1422:\n",
    "    \n",
    "    \"\"\"\n",
    "    :type s: str\n",
    "    :rtype: int\n",
    "    \"\"\"\n",
    "    \n",
    "    def __init__(self,s=''):\n",
    "        self.s = s\n",
    "        \n",
    "    def maxScore(self, s):\n",
    "        l = list(s)\n",
    "        max_v = 0\n",
    "        for i in range(len(l)-1):   \n",
    "            s_l = l[:i+1]; s_r = l[i+1:] #split the list w.r.t adjacent values\n",
    "            print (s_l, s_r)\n",
    "        \n",
    "            s_l = [int(j) for j in s_l if j=='0'] #count zeros on left list\n",
    "            s_r = [int(j) for j in s_r if j=='1'] #count ones on right list\n",
    "        \n",
    "            sum = len(s_l)+ len(s_r) \n",
    "            if sum > max_v: \n",
    "                max_v = sum\n",
    "               \n",
    "        return max_v \n",
    "\n",
    "p144 = Solution1422()\n",
    "max_score = p144.maxScore('011101')\n",
    "\n",
    "print(max_score)"
   ]
  },
  {
   "cell_type": "markdown",
   "metadata": {},
   "source": [
    "## Interview Simulator Question 1:\n",
    "\n",
    "Sort the list using bubble sorting"
   ]
  },
  {
   "cell_type": "code",
   "execution_count": 20,
   "metadata": {},
   "outputs": [
    {
     "name": "stdout",
     "output_type": "stream",
     "text": [
      "in [23, 11, 45, 60, 8, 20, 10]\n",
      "out [8, 10, 11, 20, 23, 45, 60]\n"
     ]
    }
   ],
   "source": [
    "def sort_bubble(l):\n",
    "    i = 0\n",
    "    while i < len(l): \n",
    "        for j in range(len(l)-i-1): #last element always get in place with the max by the end of for loop                       \n",
    "            if l[j] > l[j+1]: \n",
    "                l[j],l[j+1] = l[j+1],l[j] \n",
    "                #print(l)\n",
    "        i += 1\n",
    "    return (l)\n",
    "\n",
    "l = [23, 11, 45, 60, 8, 20, 10]\n",
    "print ('in', l)\n",
    "print('out', sort_bubble(l))    "
   ]
  },
  {
   "cell_type": "markdown",
   "metadata": {},
   "source": [
    "## Interview Simulator Question 2:\n",
    "\n",
    "Unpack the list of lists into 1 dim list"
   ]
  },
  {
   "cell_type": "code",
   "execution_count": 21,
   "metadata": {},
   "outputs": [
    {
     "name": "stdout",
     "output_type": "stream",
     "text": [
      "in [[1, 2, 3], [4, 5, 6]]\n",
      "out [1, 2, 3, 4, 5, 6]\n"
     ]
    }
   ],
   "source": [
    "def single_list(l):\n",
    "    out_list = []\n",
    "    for i in l:\n",
    "        for j in i:\n",
    "            out_list.append(j)\n",
    "          \n",
    "    return out_list\n",
    "\n",
    "l = [[1,2,3],[4,5,6]]\n",
    "print('in', l)\n",
    "print('out', single_list(l))"
   ]
  },
  {
   "cell_type": "markdown",
   "metadata": {},
   "source": [
    "## Interview Simulator Question 3:\n",
    "\n",
    "Unpack the list of objects into 1 dim list. FIXME (TO BE ASKED!)"
   ]
  },
  {
   "cell_type": "code",
   "execution_count": 22,
   "metadata": {},
   "outputs": [
    {
     "name": "stdout",
     "output_type": "stream",
     "text": [
      "[[6, 3, 8], 1, [[5, 4], 1, [[7]]]]\n",
      "[6, 3, 8, 1, [5, 4], 1, [[7]]]\n",
      "[6, 3, 8, 1, 5, 4, 1, [7]]\n",
      "[6, 3, 8, 1, 5, 4, 1, 7]\n",
      "[6, 3, 8, 1, 5, 4, 1, 7]\n",
      "[6, 3, 8, 1, 5, 4, 1, 7]\n",
      "[6, 3, 8, 1, 5, 4, 1, 7]\n",
      "[6, 3, 8, 1, 5, 4, 1, 7]\n",
      "out [6, 3, 8, 1, 5, 4, 1, 7]\n"
     ]
    }
   ],
   "source": [
    "def single_list2(l):\n",
    "    out_list = []\n",
    "    \n",
    "    print(l)\n",
    "    for i in l:\n",
    "        if isinstance(i, list): \n",
    "            for j in i: \n",
    "                out_list.append(j)                \n",
    "        else: out_list.append(i)    \n",
    "\n",
    "    return (out_list) \n",
    "\n",
    "l = [ [6,3,8], 1, [ [5,4], 1, [[7]] ] ] \n",
    "\n",
    "i=0\n",
    "while i < len(l):\n",
    "    l = single_list2(l)\n",
    "    i+=1\n",
    "print('out', l)"
   ]
  },
  {
   "cell_type": "code",
   "execution_count": null,
   "metadata": {},
   "outputs": [],
   "source": []
  },
  {
   "cell_type": "code",
   "execution_count": null,
   "metadata": {},
   "outputs": [],
   "source": []
  }
 ],
 "metadata": {
  "kernelspec": {
   "display_name": "Python 3",
   "language": "python",
   "name": "python3"
  },
  "language_info": {
   "codemirror_mode": {
    "name": "ipython",
    "version": 3
   },
   "file_extension": ".py",
   "mimetype": "text/x-python",
   "name": "python",
   "nbconvert_exporter": "python",
   "pygments_lexer": "ipython3",
   "version": "3.6.8"
  }
 },
 "nbformat": 4,
 "nbformat_minor": 2
}
