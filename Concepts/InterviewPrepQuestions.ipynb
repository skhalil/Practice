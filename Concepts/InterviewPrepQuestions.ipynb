{
 "cells": [
  {
   "cell_type": "markdown",
   "metadata": {},
   "source": [
    "import numpy as np\n",
    "from matplotlib import pyplot as plt\n",
    "import pandas as pd\n",
    "from scipy.stats import norm"
   ]
  },
  {
   "cell_type": "markdown",
   "metadata": {},
   "source": [
    "# Interview Prep Questions from Towards Data Science\n",
    "\n",
    "https://towardsdatascience.com/40-statistics-interview-problems-and-answers-for-data-scientists-6971a02b7eee"
   ]
  },
  {
   "cell_type": "markdown",
   "metadata": {},
   "source": [
    "* Problem 26\n",
    "\n",
    "*Infection rates at a hospital above a 1 infection per 100 person-days at risk are considered high. A hospital had 10 infections over the last 1787 person-days at risk. Give the p-value of the correct one-sided test of whether the hospital is below the standard.*"
   ]
  },
  {
   "cell_type": "markdown",
   "metadata": {},
   "source": [
    "The Poisson distribution is popular for modeling the number of times an event occurs in an interval of time or space. P(k event in interval) $~= \\frac{\\lambda^k e^{-\\lambda}}{k!}$, where $\\lambda$ is the average number of events per interval. \n",
    "\n",
    "For this particular problem, the question is to test null hypothesis w.r.t alternate such as \n",
    "\n",
    "$H_0$: $\\lambda_0 = 1$ infection per person-days\n",
    "\n",
    "$H_1$: $\\lambda_1 > 1$ infection per person-days\n",
    "\n",
    "k = 10 infections\n",
    "\n",
    "$\\lambda= 1/100 * 1787$\n",
    "\n",
    "Find P(k=10) for one-sided test, meaning compare it to $\\alpha/2$."
   ]
  },
  {
   "cell_type": "code",
   "execution_count": 27,
   "metadata": {},
   "outputs": [
    {
     "name": "stdout",
     "output_type": "stream",
     "text": [
      "P(k=10) = 0.016 , alpha/2 =  0.025\n"
     ]
    },
    {
     "data": {
      "image/png": "[encoded data removed]",
      "text/plain": [
       "<Figure size 432x288 with 1 Axes>"
      ]
     },
     "metadata": {
      "needs_background": "light"
     },
     "output_type": "display_data"
    }
   ],
   "source": [
    "def poisson(k, lamb):\n",
    "    return (lamb**k)*np.exp(-lamb)/np.math.factorial(k)\n",
    "\n",
    "k_range = np.arange(50)\n",
    "mu = (1/100)*1787\n",
    "\n",
    "dist = [poisson(k, lamb) for k in k_range]\n",
    "\n",
    "plt.plot(k, dist)\n",
    "#plt.plot(10, 0.04,'x')\n",
    "plt.axvline(x=10, color='red')\n",
    "print('P(k=10) =', round(poisson(k_range[10], mu),3), ', alpha/2 = ', 0.05/2)\n",
    "\n"
   ]
  },
  {
   "cell_type": "markdown",
   "metadata": {},
   "source": [
    "since P(k=10) < $\\alpha$/2, we reject the $H_0$ hypothesis, concluding hospital is below the standard."
   ]
  },
  {
   "cell_type": "markdown",
   "metadata": {},
   "source": [
    "## Qunatile-Quantile plots\n",
    "\n",
    "Lets have 10 numerically sorted observations from a random number generator that follows a Student’s T-distribution with 1 degree of freedom. Lets draw N-1 = 9 quantiles."
   ]
  },
  {
   "cell_type": "code",
   "execution_count": 80,
   "metadata": {},
   "outputs": [
    {
     "name": "stdout",
     "output_type": "stream",
     "text": [
      "[-2.086530647729873, -1.87550573003738, -1.278347177276567, -0.8739334603121296, -0.4664653169506629, -0.30081593449424293, -0.07576128052726906, 1.3139715688138236, 3.429523611247244, 6.014829892515007]\n"
     ]
    }
   ],
   "source": [
    "N = 10\n",
    "t_dist = sorted(np.random.standard_t(1, size=N))\n",
    "print(t_dist)"
   ]
  },
  {
   "cell_type": "markdown",
   "metadata": {},
   "source": [
    "Lets divide the data into N-1 = 9 equal segments or quantile that is the mid point b/w the two values of `t_dist`, and the area under that quantile"
   ]
  },
  {
   "cell_type": "code",
   "execution_count": 81,
   "metadata": {},
   "outputs": [
    {
     "data": {
      "image/png": "[encoded data removed]",
      "text/plain": [
       "<Figure size 432x288 with 1 Axes>"
      ]
     },
     "metadata": {
      "needs_background": "light"
     },
     "output_type": "display_data"
    }
   ],
   "source": [
    "t_dist_quantiles = []\n",
    "quantiles_percent = []\n",
    "\n",
    "for i, val in enumerate(t_dist[:-1]): #one less\n",
    "    #records midpoints(x+val)/2\n",
    "    t_dist_quantiles.append((val + t_dist[i+1])/2)\n",
    "    #records the proportion of the data that lies below the quantile    \n",
    "    quantiles_percent.append((i+1)/len(t_dist))\n",
    "    \n",
    "plt.scatter(np.ones(10), t_dist)\n",
    "for i in t_dist_quantiles:\n",
    "     plt.axhline(y=i, color='red')"
   ]
  },
  {
   "cell_type": "code",
   "execution_count": 82,
   "metadata": {},
   "outputs": [
    {
     "data": {
      "text/html": [
       "<div>\n",
       "<style scoped>\n",
       "    .dataframe tbody tr th:only-of-type {\n",
       "        vertical-align: middle;\n",
       "    }\n",
       "\n",
       "    .dataframe tbody tr th {\n",
       "        vertical-align: top;\n",
       "    }\n",
       "\n",
       "    .dataframe thead th {\n",
       "        text-align: right;\n",
       "    }\n",
       "</style>\n",
       "<table border=\"1\" class=\"dataframe\">\n",
       "  <thead>\n",
       "    <tr style=\"text-align: right;\">\n",
       "      <th></th>\n",
       "      <th>percent_below</th>\n",
       "      <th>quantile</th>\n",
       "    </tr>\n",
       "  </thead>\n",
       "  <tbody>\n",
       "    <tr>\n",
       "      <th>0</th>\n",
       "      <td>0.1</td>\n",
       "      <td>-1.981018</td>\n",
       "    </tr>\n",
       "    <tr>\n",
       "      <th>1</th>\n",
       "      <td>0.2</td>\n",
       "      <td>-1.576926</td>\n",
       "    </tr>\n",
       "    <tr>\n",
       "      <th>2</th>\n",
       "      <td>0.3</td>\n",
       "      <td>-1.076140</td>\n",
       "    </tr>\n",
       "    <tr>\n",
       "      <th>3</th>\n",
       "      <td>0.4</td>\n",
       "      <td>-0.670199</td>\n",
       "    </tr>\n",
       "    <tr>\n",
       "      <th>4</th>\n",
       "      <td>0.5</td>\n",
       "      <td>-0.383641</td>\n",
       "    </tr>\n",
       "    <tr>\n",
       "      <th>5</th>\n",
       "      <td>0.6</td>\n",
       "      <td>-0.188289</td>\n",
       "    </tr>\n",
       "    <tr>\n",
       "      <th>6</th>\n",
       "      <td>0.7</td>\n",
       "      <td>0.619105</td>\n",
       "    </tr>\n",
       "    <tr>\n",
       "      <th>7</th>\n",
       "      <td>0.8</td>\n",
       "      <td>2.371748</td>\n",
       "    </tr>\n",
       "    <tr>\n",
       "      <th>8</th>\n",
       "      <td>0.9</td>\n",
       "      <td>4.722177</td>\n",
       "    </tr>\n",
       "  </tbody>\n",
       "</table>\n",
       "</div>"
      ],
      "text/plain": [
       "   percent_below  quantile\n",
       "0            0.1 -1.981018\n",
       "1            0.2 -1.576926\n",
       "2            0.3 -1.076140\n",
       "3            0.4 -0.670199\n",
       "4            0.5 -0.383641\n",
       "5            0.6 -0.188289\n",
       "6            0.7  0.619105\n",
       "7            0.8  2.371748\n",
       "8            0.9  4.722177"
      ]
     },
     "metadata": {},
     "output_type": "display_data"
    }
   ],
   "source": [
    "qp_array = np.array(quantiles_percent).reshape(-1,1)\n",
    "tq_array = np.array(t_dist_quantiles).reshape(-1,1)\n",
    "\n",
    "qq_df = pd.DataFrame(np.concatenate((qp_array, tq_array), axis=1),columns=['percent_below', 'quantile'])\n",
    "display(qq_df)    "
   ]
  },
  {
   "cell_type": "markdown",
   "metadata": {},
   "source": [
    "Note, that the first quantile value is b/w the first and second value of the `t_dist` array. The `percent_below` column tells us that 10% of our data lies below the first quantile value.\n",
    "\n",
    "Lets also get the reference quantile assuming data was drawn from normal distribution. We need to records the proportion of the data that lies below each quantile."
   ]
  },
  {
   "cell_type": "code",
   "execution_count": 83,
   "metadata": {},
   "outputs": [
    {
     "data": {
      "text/html": [
       "<div>\n",
       "<style scoped>\n",
       "    .dataframe tbody tr th:only-of-type {\n",
       "        vertical-align: middle;\n",
       "    }\n",
       "\n",
       "    .dataframe tbody tr th {\n",
       "        vertical-align: top;\n",
       "    }\n",
       "\n",
       "    .dataframe thead th {\n",
       "        text-align: right;\n",
       "    }\n",
       "</style>\n",
       "<table border=\"1\" class=\"dataframe\">\n",
       "  <thead>\n",
       "    <tr style=\"text-align: right;\">\n",
       "      <th></th>\n",
       "      <th>percent_below</th>\n",
       "      <th>quantile</th>\n",
       "      <th>theoretical_quantile</th>\n",
       "    </tr>\n",
       "  </thead>\n",
       "  <tbody>\n",
       "    <tr>\n",
       "      <th>0</th>\n",
       "      <td>0.1</td>\n",
       "      <td>-1.981018</td>\n",
       "      <td>-1.281552</td>\n",
       "    </tr>\n",
       "    <tr>\n",
       "      <th>1</th>\n",
       "      <td>0.2</td>\n",
       "      <td>-1.576926</td>\n",
       "      <td>-0.841621</td>\n",
       "    </tr>\n",
       "    <tr>\n",
       "      <th>2</th>\n",
       "      <td>0.3</td>\n",
       "      <td>-1.076140</td>\n",
       "      <td>-0.524401</td>\n",
       "    </tr>\n",
       "    <tr>\n",
       "      <th>3</th>\n",
       "      <td>0.4</td>\n",
       "      <td>-0.670199</td>\n",
       "      <td>-0.253347</td>\n",
       "    </tr>\n",
       "    <tr>\n",
       "      <th>4</th>\n",
       "      <td>0.5</td>\n",
       "      <td>-0.383641</td>\n",
       "      <td>0.000000</td>\n",
       "    </tr>\n",
       "    <tr>\n",
       "      <th>5</th>\n",
       "      <td>0.6</td>\n",
       "      <td>-0.188289</td>\n",
       "      <td>0.253347</td>\n",
       "    </tr>\n",
       "    <tr>\n",
       "      <th>6</th>\n",
       "      <td>0.7</td>\n",
       "      <td>0.619105</td>\n",
       "      <td>0.524401</td>\n",
       "    </tr>\n",
       "    <tr>\n",
       "      <th>7</th>\n",
       "      <td>0.8</td>\n",
       "      <td>2.371748</td>\n",
       "      <td>0.841621</td>\n",
       "    </tr>\n",
       "    <tr>\n",
       "      <th>8</th>\n",
       "      <td>0.9</td>\n",
       "      <td>4.722177</td>\n",
       "      <td>1.281552</td>\n",
       "    </tr>\n",
       "  </tbody>\n",
       "</table>\n",
       "</div>"
      ],
      "text/plain": [
       "   percent_below  quantile  theoretical_quantile\n",
       "0            0.1 -1.981018             -1.281552\n",
       "1            0.2 -1.576926             -0.841621\n",
       "2            0.3 -1.076140             -0.524401\n",
       "3            0.4 -0.670199             -0.253347\n",
       "4            0.5 -0.383641              0.000000\n",
       "5            0.6 -0.188289              0.253347\n",
       "6            0.7  0.619105              0.524401\n",
       "7            0.8  2.371748              0.841621\n",
       "8            0.9  4.722177              1.281552"
      ]
     },
     "metadata": {},
     "output_type": "display_data"
    }
   ],
   "source": [
    "qq_df['theoretical_quantile'] = [norm.ppf(percentage) for percentage in qq_df['percent_below']]\n",
    "display(qq_df) "
   ]
  },
  {
   "cell_type": "code",
   "execution_count": 84,
   "metadata": {},
   "outputs": [
    {
     "data": {
      "image/png": "[encoded data removed]",
      "text/plain": [
       "<Figure size 648x504 with 1 Axes>"
      ]
     },
     "metadata": {
      "needs_background": "light"
     },
     "output_type": "display_data"
    }
   ],
   "source": [
    "plt.subplots(figsize=(9,7))\n",
    "plt.scatter(x=qq_df['theoretical_quantile'],\n",
    "            y=qq_df['quantile'], label='Actual');\n",
    "plt.scatter(x=qq_df['theoretical_quantile'],\n",
    "            y=qq_df['theoretical_quantile'], \n",
    "            c='red', label='Normal')\n",
    "plt.xlabel('Theoretical Quantiles')\n",
    "plt.ylabel('Actual Quantiles')\n",
    "plt.legend()\n",
    "plt.savefig('qq_plot', bpi=150);\n",
    "plt.show()"
   ]
  },
  {
   "cell_type": "markdown",
   "metadata": {},
   "source": [
    "* **Take away**\n",
    "\n",
    "* The slope tells us whether the steps in our data are too big or too small. One can observe as how the step sizes (a.k.a. quantiles) compare between our data and the normal distribution.\n",
    "\n",
    "* A steeply sloping section of the QQ plot means that in this part of our data, the observations are more spread out than we would expect them to be if they were normally distributed. One example cause of this would be an unusually large number of outliers in the tails\n",
    "\n",
    "* A flat QQ plot means that our data is more bunched together than we would expect from a normal distribution. This is the case if data follows a uniform distribution rather than normal distribution."
   ]
  },
  {
   "cell_type": "code",
   "execution_count": 92,
   "metadata": {},
   "outputs": [
    {
     "data": {
      "image/png": "[encoded data removed]",
      "text/plain": [
       "<Figure size 432x288 with 1 Axes>"
      ]
     },
     "metadata": {
      "needs_background": "light"
     },
     "output_type": "display_data"
    },
    {
     "data": {
      "image/png": "[encoded data removed]",
      "text/plain": [
       "<Figure size 432x288 with 1 Axes>"
      ]
     },
     "metadata": {
      "needs_background": "light"
     },
     "output_type": "display_data"
    }
   ],
   "source": [
    "import statsmodels.api as sm #pip install -U statsmodels\n",
    "import random# Generate some uniformly distributed random variables\n",
    "random_uniform = [random.random() for i in range(1000)]# Create QQ plot\n",
    "random_normals = [np.random.normal() for i in range(1000)]\n",
    "# Create QQ plot\n",
    "sm.qqplot(np.array(random_normals), line='45', color='red')\n",
    "sm.qqplot(np.array(random_uniform), line='45')\n",
    "plt.show()"
   ]
  },
  {
   "cell_type": "markdown",
   "metadata": {},
   "source": [
    "# Leet Code Problem 126\n",
    "\n",
    "Given a non-empty array of integers, every element appears twice except for one. Find that single one.\n",
    "\n",
    "https://leetcode.com/problems/single-number/"
   ]
  },
  {
   "cell_type": "code",
   "execution_count": 13,
   "metadata": {},
   "outputs": [
    {
     "name": "stdout",
     "output_type": "stream",
     "text": [
      "4\n"
     ]
    }
   ],
   "source": [
    "def singleNumber(nums): \n",
    "    #for x in nums:\n",
    "    #    if nums.count(x) == 1: print(x)\n",
    "            \n",
    "    #print({x for x in nums if nums.count(x) == 1})\n",
    "    return ( [x for x in nums if nums.count(x) == 1][0] )\n",
    "print(singleNumber([1,2,4,1,2]))"
   ]
  },
  {
   "cell_type": "code",
   "execution_count": 165,
   "metadata": {},
   "outputs": [
    {
     "name": "stdout",
     "output_type": "stream",
     "text": [
      "4\n"
     ]
    }
   ],
   "source": [
    "def singleNumber(nums):    \n",
    "    i = 0\n",
    "    while nums[i] in nums[:i] or nums[i] in nums[i+1:]:       \n",
    "        i += 1\n",
    "    return nums[i]\n",
    "\n",
    "print(singleNumber([1,2,4,1,2]))"
   ]
  },
  {
   "cell_type": "markdown",
   "metadata": {},
   "source": [
    "# running median"
   ]
  },
  {
   "cell_type": "code",
   "execution_count": 8,
   "metadata": {},
   "outputs": [
    {
     "name": "stdout",
     "output_type": "stream",
     "text": [
      "[2, 1, 5, 7, 2, 0, 5]\n",
      "2\n",
      "1\n",
      "3.5\n",
      "5\n",
      "4.0\n",
      "7\n",
      "3.5\n",
      "None\n"
     ]
    }
   ],
   "source": [
    "def running_median(n): # FIX ME\n",
    "    #n.sort()\n",
    "    print(n)\n",
    "    for i in range(len(n)):\n",
    "        if i==0: print(n[i])\n",
    "        else:\n",
    "            if i%2==0: print((n[i//2-1]+n[i//2+1])/2)\n",
    "            else: print(n[i//2+1]) #// divide for integer\n",
    "                \n",
    "                \n",
    "l = [2, 1, 5, 7, 2, 0, 5]\n",
    "#expected output 2, 1.5, 2, 3.5, 2, 2, 2\n",
    "\n",
    "print (running_median(l))"
   ]
  },
  {
   "cell_type": "markdown",
   "metadata": {},
   "source": [
    "# Anagram Soloutions (CS)"
   ]
  },
  {
   "cell_type": "code",
   "execution_count": 7,
   "metadata": {},
   "outputs": [
    {
     "name": "stdout",
     "output_type": "stream",
     "text": [
      "False\n"
     ]
    },
    {
     "data": {
      "text/plain": [
       "'\\ndef leet(s1,s2):\\n    alist1 = list(s1)\\n    alist2 = list(s2)\\n\\n    alist1.sort() #O(n^2) or O(nlog(n))\\n    alist2.sort()\\n\\n    pos = 0\\n    matches = True\\n    \\n    while pos < len(s1) and matches:\\n        if alist1[pos]==alist2[pos]:\\n            \\n'"
      ]
     },
     "execution_count": 7,
     "metadata": {},
     "output_type": "execute_result"
    }
   ],
   "source": [
    "def anagramSolution2(s1,s2):\n",
    "    alist1 = list(s1)\n",
    "    alist2 = list(s2)\n",
    "\n",
    "    alist1.sort() #O(n^2) or O(nlog(n))\n",
    "    alist2.sort()\n",
    "\n",
    "    pos = 0\n",
    "    matches = True\n",
    "\n",
    "    while pos < len(s1) and matches: #O(n)\n",
    "        if alist1[pos]==alist2[pos]:\n",
    "            pos = pos + 1\n",
    "        else:\n",
    "            matches = False\n",
    "\n",
    "    return matches\n",
    "\n",
    "print(anagramSolution2('needle','ll'))\n",
    "\n"
   ]
  },
  {
   "cell_type": "code",
   "execution_count": null,
   "metadata": {},
   "outputs": [
    {
     "name": "stdout",
     "output_type": "stream",
     "text": [
      "['d', 'e', 'e', 'e', 'l', 'n'] ['l', 'l']\n"
     ]
    }
   ],
   "source": [
    "def leet(s1,s2):\n",
    "    alist1 = list(s1)\n",
    "    alist2 = list(s2)\n",
    "\n",
    "    #alist1.sort() #O(n^2) or O(nlog(n))\n",
    "    #alist2.sort()\n",
    "    print(alist1, alist2)\n",
    "    pos = 0\n",
    "    matches = True\n",
    "    for i, v in enumerate(alist1):\n",
    "        \n",
    "    #while pos < len(s1) and matches:\n",
    "     #   if alist1[pos]==alist2[pos]: print (alist1[pos])\n",
    "    #else: \n",
    "    \n",
    "print(leet('needle', 'll'))        "
   ]
  },
  {
   "cell_type": "code",
   "execution_count": 4,
   "metadata": {},
   "outputs": [
    {
     "name": "stdout",
     "output_type": "stream",
     "text": [
      "True\n"
     ]
    }
   ],
   "source": [
    "def anagramSolution1(s1,s2):\n",
    "    stillOK = True\n",
    "    if len(s1) != len(s2):\n",
    "        stillOK = False\n",
    "\n",
    "    alist = list(s2)\n",
    "    pos1 = 0\n",
    "\n",
    "    while pos1 < len(s1) and stillOK:\n",
    "        pos2 = 0\n",
    "        found = False\n",
    "        while pos2 < len(alist) and not found:\n",
    "            if s1[pos1] == alist[pos2]:\n",
    "                found = True\n",
    "            else:\n",
    "                pos2 = pos2 + 1\n",
    "\n",
    "        if found:\n",
    "            alist[pos2] = None\n",
    "        else:\n",
    "            stillOK = False\n",
    "\n",
    "        pos1 = pos1 + 1\n",
    "\n",
    "    return stillOK\n",
    "\n",
    "print(anagramSolution1('abcde','edcba'))\n"
   ]
  },
  {
   "cell_type": "code",
   "execution_count": 5,
   "metadata": {},
   "outputs": [
    {
     "name": "stdout",
     "output_type": "stream",
     "text": [
      "True\n"
     ]
    }
   ],
   "source": [
    "def anagramSolution4(s1,s2):\n",
    "    c1 = [0]*26\n",
    "    c2 = [0]*26\n",
    "\n",
    "    for i in range(len(s1)):        #O(n)\n",
    "        pos = ord(s1[i])-ord('a')\n",
    "        c1[pos] = c1[pos] + 1\n",
    "\n",
    "    for i in range(len(s2)):        #O(n)\n",
    "        pos = ord(s2[i])-ord('a')\n",
    "        c2[pos] = c2[pos] + 1\n",
    "\n",
    "    j = 0\n",
    "    stillOK = True\n",
    "    while j<26 and stillOK:        #26\n",
    "        if c1[j]==c2[j]:\n",
    "            j = j + 1\n",
    "        else:\n",
    "            stillOK = False\n",
    "\n",
    "    return stillOK\n",
    "\n",
    "print(anagramSolution4('apple','pleap'))\n"
   ]
  },
  {
   "cell_type": "code",
   "execution_count": 25,
   "metadata": {},
   "outputs": [
    {
     "name": "stdout",
     "output_type": "stream",
     "text": [
      "['0'] ['1', '1', '1', '0', '1']\n",
      "['0', '1'] ['1', '1', '0', '1']\n",
      "['0', '1', '1'] ['1', '0', '1']\n",
      "['0', '1', '1', '1'] ['0', '1']\n",
      "['0', '1', '1', '1', '0'] ['1']\n",
      "5\n"
     ]
    }
   ],
   "source": [
    "\n",
    "\n",
    "def maxScore(s):\n",
    "    l = list(s)\n",
    "    max_v = 0\n",
    "    for i in range(len(l)-1):   \n",
    "        s_l = l[:i+1]; s_r = l[i+1:]\n",
    "        print (s_l, s_r)\n",
    "        \n",
    "        s_l = [int(j) for j in s_l if j=='0']\n",
    "        s_r = [int(j) for j in s_r if j=='1']\n",
    "        \n",
    "        sum = len(s_l)+ len(s_r)\n",
    "        if sum > max_v: max_v = sum\n",
    "               \n",
    "    return max_v \n",
    "\n",
    "print(maxScore('011101'))"
   ]
  },
  {
   "attachments": {
    "image.png": {
     "image/png": "[encoded data removed]"
    }
   },
   "cell_type": "markdown",
   "metadata": {},
   "source": [
    "![image.png](attachment:image.png)"
   ]
  },
  {
   "cell_type": "code",
   "execution_count": 13,
   "metadata": {},
   "outputs": [
    {
     "name": "stdout",
     "output_type": "stream",
     "text": [
      "8 -> 1\n",
      "4 -> 0\n",
      "2 -> 0\n",
      "1 -> 0\n",
      "10001"
     ]
    }
   ],
   "source": [
    "# Function to convert decimal number \n",
    "# to binary using recursion \n",
    "def DecimalToBinary(num): \n",
    "      \n",
    "    if num > 1: \n",
    "        print(num//2,'->', num%2)\n",
    "        DecimalToBinary(num // 2) \n",
    "    print(num % 2, end = '') \n",
    "  \n",
    "# Driver Code \n",
    "if __name__ == '__main__': \n",
    "      \n",
    "    # decimal value \n",
    "    dec_val = 17\n",
    "      \n",
    "    # Calling function \n",
    "    DecimalToBinary(dec_val) \n"
   ]
  },
  {
   "cell_type": "code",
   "execution_count": 2,
   "metadata": {},
   "outputs": [],
   "source": [
    "class Solution(object):\n",
    "    def sortedSquares(self, A):\n",
    "        \"\"\"\n",
    "        :type A: List[int]\n",
    "        :rtype: List[int]\n",
    "        \"\"\"\n",
    "        sqr = [i*i for i in A]\n",
    "        print(sqr)\n",
    "        sqr.sort()\n",
    "        return (sqr)\n",
    "        #maxval = 0\n",
    "        #for j in sqr:\n",
    "            \n",
    "            "
   ]
  },
  {
   "cell_type": "code",
   "execution_count": null,
   "metadata": {},
   "outputs": [],
   "source": []
  }
 ],
 "metadata": {
  "kernelspec": {
   "display_name": "Python 3",
   "language": "python",
   "name": "python3"
  },
  "language_info": {
   "codemirror_mode": {
    "name": "ipython",
    "version": 3
   },
   "file_extension": ".py",
   "mimetype": "text/x-python",
   "name": "python",
   "nbconvert_exporter": "python",
   "pygments_lexer": "ipython3",
   "version": "3.6.8"
  }
 },
 "nbformat": 4,
 "nbformat_minor": 2
}
